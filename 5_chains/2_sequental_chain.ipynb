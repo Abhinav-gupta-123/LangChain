{
 "cells": [
  {
   "cell_type": "code",
   "execution_count": 1,
   "id": "b966528f",
   "metadata": {},
   "outputs": [
    {
     "name": "stderr",
     "output_type": "stream",
     "text": [
      "C:\\Users\\abhin\\AppData\\Local\\Temp\\ipykernel_8320\\633070937.py:18: LangChainDeprecationWarning: The class `ChatOllama` was deprecated in LangChain 0.3.1 and will be removed in 1.0.0. An updated version of the class exists in the :class:`~langchain-ollama package and should be used instead. To use it run `pip install -U :class:`~langchain-ollama` and import as `from :class:`~langchain_ollama import ChatOllama``.\n",
      "  model = ChatOllama(model='llama3.2')\n"
     ]
    },
    {
     "name": "stdout",
     "output_type": "stream",
     "text": [
      "Here is a 5-point summary of the report on unemployment in India:\n",
      "\n",
      "1. **Unemployment Rate High**: The estimated unemployment rate in India stands at around 7.2% as of January 2023, representing a significant increase from pre-pandemic levels in 2019.\n",
      "\n",
      "2. **Causes of Unemployment**: Factors contributing to high unemployment rates include a lack of skilled workers, rural-urban migration, the informal economy, global competition, and demographic changes, which put pressure on the labor market.\n",
      "\n",
      "3. **Consequences of Unemployment**: Unemployment has significant social and economic implications, including poverty, inequality, mental health impacts, and reduced economic growth, affecting individuals and society as a whole.\n",
      "\n",
      "4. **Policy Responses**: The Indian government has implemented various policies to address unemployment, such as skill development programs, job guarantee schemes, industrial policy initiatives, and the \"Make in India\" initiative, aiming to promote entrepreneurship, innovation, and skill development in key sectors.\n",
      "\n",
      "5. **Recommendations for Future Research**: To effectively address unemployment in India, future research should focus on investigating the impact of policy interventions, analyzing regional disparities, examining the role of technology, and adopting evidence-based policy development approaches through interdisciplinary research that combines insights from multiple fields.\n",
      "     +-------------+       \n",
      "     | PromptInput |       \n",
      "     +-------------+       \n",
      "            *              \n",
      "            *              \n",
      "            *              \n",
      "    +----------------+     \n",
      "    | PromptTemplate |     \n",
      "    +----------------+     \n",
      "            *              \n",
      "            *              \n",
      "            *              \n",
      "      +------------+       \n",
      "      | ChatOllama |       \n",
      "      +------------+       \n",
      "            *              \n",
      "            *              \n",
      "            *              \n",
      "   +-----------------+     \n",
      "   | StrOutputParser |     \n",
      "   +-----------------+     \n",
      "            *              \n",
      "            *              \n",
      "            *              \n",
      "+-----------------------+  \n",
      "| StrOutputParserOutput |  \n",
      "+-----------------------+  \n",
      "            *              \n",
      "            *              \n",
      "            *              \n",
      "    +----------------+     \n",
      "    | PromptTemplate |     \n",
      "    +----------------+     \n",
      "            *              \n",
      "            *              \n",
      "            *              \n",
      "      +------------+       \n",
      "      | ChatOllama |       \n",
      "      +------------+       \n",
      "            *              \n",
      "            *              \n",
      "            *              \n",
      "   +-----------------+     \n",
      "   | StrOutputParser |     \n",
      "   +-----------------+     \n",
      "            *              \n",
      "            *              \n",
      "            *              \n",
      "+-----------------------+  \n",
      "| StrOutputParserOutput |  \n",
      "+-----------------------+  \n"
     ]
    }
   ],
   "source": [
    "from langchain_community.chat_models import ChatOllama\n",
    "from dotenv import load_dotenv\n",
    "from langchain_core.prompts import PromptTemplate\n",
    "from langchain_core.output_parsers import StrOutputParser\n",
    "\n",
    "load_dotenv()\n",
    "\n",
    "prompt1 = PromptTemplate(\n",
    "    template='Generate a detailed report on {topic}',\n",
    "    input_variables=['topic']\n",
    ")\n",
    "\n",
    "prompt2 = PromptTemplate(\n",
    "    template='Generate a 5 pointer summary from the following text \\n {text}',\n",
    "    input_variables=['text']\n",
    ")\n",
    "\n",
    "model = ChatOllama(model='llama3.2')\n",
    "\n",
    "parser = StrOutputParser()\n",
    "\n",
    "chain = prompt1 | model | parser | prompt2 | model | parser\n",
    "\n",
    "result = chain.invoke({'topic': 'Unemployment in India'})\n",
    "\n",
    "print(result)\n",
    "\n",
    "chain.get_graph().print_ascii()"
   ]
  },
  {
   "cell_type": "markdown",
   "id": "bf1c5236",
   "metadata": {},
   "source": [
    "In above implementation this is called sequential chain in this one model output \n",
    "come in another model as input sequentially\n"
   ]
  },
  {
   "cell_type": "code",
   "execution_count": null,
   "id": "43de6387",
   "metadata": {},
   "outputs": [],
   "source": []
  }
 ],
 "metadata": {
  "kernelspec": {
   "display_name": ".venv",
   "language": "python",
   "name": "python3"
  },
  "language_info": {
   "codemirror_mode": {
    "name": "ipython",
    "version": 3
   },
   "file_extension": ".py",
   "mimetype": "text/x-python",
   "name": "python",
   "nbconvert_exporter": "python",
   "pygments_lexer": "ipython3",
   "version": "3.12.4"
  }
 },
 "nbformat": 4,
 "nbformat_minor": 5
}
