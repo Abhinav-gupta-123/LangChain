{
 "cells": [
  {
   "cell_type": "code",
   "execution_count": 3,
   "id": "a2603eb7",
   "metadata": {},
   "outputs": [
    {
     "name": "stdout",
     "output_type": "stream",
     "text": [
      "Collecting grandalf\n",
      "  Downloading grandalf-0.8-py3-none-any.whl.metadata (1.7 kB)\n",
      "Requirement already satisfied: pyparsing in c:\\users\\abhin\\desktop\\.venv\\lib\\site-packages (from grandalf) (3.2.1)\n",
      "Downloading grandalf-0.8-py3-none-any.whl (41 kB)\n",
      "Installing collected packages: grandalf\n",
      "Successfully installed grandalf-0.8\n",
      "Note: you may need to restart the kernel to use updated packages.\n",
      "Here are five interesting facts about cricket:\n",
      "\n",
      "1. **Cricket is one of the oldest sports in the world**: Cricket has a rich history that dates back to the 16th century, with evidence of the game being played in England as far back as 1598. It was initially played by English aristocrats and spread throughout the British Empire.\n",
      "\n",
      "2. **The first cricket ball was made from wood**: In the early days of cricket, balls were made from solid woods such as beech or hazel. These wooden balls were often heavy and difficult to control, but they provided a unique challenge for players trying to hit them with a bat.\n",
      "\n",
      "3. **Cricket has more international teams than the Olympics**: There are currently 120 national cricket teams recognized by the International Cricket Council (ICC), which is more than the number of countries represented in the Olympic Games.\n",
      "\n",
      "4. **The fastest recorded over in cricket was 153.9 km/h (95.6 mph)**: In 2018, Australian fast bowler Mitchell Starc took a delivery that reached an astonishing speed of 153.9 km/h (95.6 mph) during a test match against Pakistan. This remains the fastest recorded over in international cricket.\n",
      "\n",
      "5. **The longest-ever match in cricket lasted for 17 days**: In 1938, a Test match between South Africa and England took place at the Wanderers Stadium in Johannesburg, South Africa. The match, which was played from March 14 to April 1, 1939, ended in a draw after 17 days of play, with neither team able to bat out their remaining overs. This remains the longest-ever Test match in cricket history.\n",
      "     +-------------+       \n",
      "     | PromptInput |       \n",
      "     +-------------+       \n",
      "            *              \n",
      "            *              \n",
      "            *              \n",
      "    +----------------+     \n",
      "    | PromptTemplate |     \n",
      "    +----------------+     \n",
      "            *              \n",
      "            *              \n",
      "            *              \n",
      "      +------------+       \n",
      "      | ChatOllama |       \n",
      "      +------------+       \n",
      "            *              \n",
      "            *              \n",
      "            *              \n",
      "   +-----------------+     \n",
      "   | StrOutputParser |     \n",
      "   +-----------------+     \n",
      "            *              \n",
      "            *              \n",
      "            *              \n",
      "+-----------------------+  \n",
      "| StrOutputParserOutput |  \n",
      "+-----------------------+  \n"
     ]
    }
   ],
   "source": [
    "%pip install grandalf\n",
    "\n",
    "from dotenv import load_dotenv\n",
    "from langchain_core.prompts import PromptTemplate\n",
    "from langchain_core.output_parsers import StrOutputParser\n",
    "from langchain_community.chat_models import ChatOllama\n",
    "\n",
    "load_dotenv()\n",
    "\n",
    "prompt = PromptTemplate(\n",
    "    template='Generate 5 interesting facts about {topic}',\n",
    "    input_variables=['topic']\n",
    ")\n",
    "\n",
    "model = ChatOllama(model='llama3.2')\n",
    "\n",
    "parser = StrOutputParser()\n",
    "\n",
    "chain = prompt | model | parser\n",
    "\n",
    "result = chain.invoke({'topic':'cricket'})\n",
    "\n",
    "print(result)\n",
    "\n",
    "chain.get_graph().print_ascii()"
   ]
  },
  {
   "cell_type": "markdown",
   "id": "153b663f",
   "metadata": {},
   "source": [
    "Using chains make the implementation much easy and clear , above we can clearly see the flow of chain which is apply"
   ]
  }
 ],
 "metadata": {
  "kernelspec": {
   "display_name": ".venv",
   "language": "python",
   "name": "python3"
  },
  "language_info": {
   "codemirror_mode": {
    "name": "ipython",
    "version": 3
   },
   "file_extension": ".py",
   "mimetype": "text/x-python",
   "name": "python",
   "nbconvert_exporter": "python",
   "pygments_lexer": "ipython3",
   "version": "3.12.4"
  }
 },
 "nbformat": 4,
 "nbformat_minor": 5
}
