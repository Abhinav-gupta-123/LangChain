{
 "cells": [
  {
   "cell_type": "code",
   "execution_count": 8,
   "id": "7cc5e143",
   "metadata": {},
   "outputs": [],
   "source": [
    "from langchain_community.chat_models import ChatOllama\n",
    "from langchain_core.output_parsers import StrOutputParser\n",
    "from langchain_core.prompts import PromptTemplate"
   ]
  },
  {
   "cell_type": "code",
   "execution_count": 9,
   "id": "e76dd69e",
   "metadata": {},
   "outputs": [],
   "source": [
    "model=ChatOllama(model='llama3.2')"
   ]
  },
  {
   "cell_type": "code",
   "execution_count": 10,
   "id": "171e6731",
   "metadata": {},
   "outputs": [],
   "source": [
    "template1=PromptTemplate(\n",
    "    template=\"Write a detailed report on {topic}\",\n",
    "    input_variables=['topic']\n",
    ")"
   ]
  },
  {
   "cell_type": "code",
   "execution_count": 11,
   "id": "f9511ec5",
   "metadata": {},
   "outputs": [],
   "source": [
    "template2=PromptTemplate(\n",
    "    template='Write a 5 line summary on the following text. /n {text}',\n",
    "    input_variables=['text']\n",
    ")"
   ]
  },
  {
   "cell_type": "code",
   "execution_count": 12,
   "id": "1f18922f",
   "metadata": {},
   "outputs": [
    {
     "name": "stdout",
     "output_type": "stream",
     "text": [
      "Here is a 5-line summary of the text:\n",
      "\n",
      "Black holes are regions in space where gravity is so strong that nothing, including light, can escape. They are formed when a massive star collapses under its own gravity, creating an intense gravitational field. Black holes have unique characteristics such as event horizons and singularities, and can warp spacetime around them. There are four types of black holes, each with different properties, and their presence can be inferred from their effects on surrounding matter. The study of black holes has led to significant advances in our understanding of astrophysics and cosmology, and further research is needed to fully understand these mysterious objects.\n"
     ]
    }
   ],
   "source": [
    "prompt1 = template1.invoke({'topic':'black hole'})\n",
    "\n",
    "result = model.invoke(prompt1)\n",
    "\n",
    "prompt2 = template2.invoke({'text':result.content})\n",
    "\n",
    "result1 = model.invoke(prompt2)\n",
    "\n",
    "print(result1.content)"
   ]
  },
  {
   "cell_type": "markdown",
   "id": "c03ae82c",
   "metadata": {},
   "source": [
    "Question : Is there any problem with this code\n",
    "\n",
    "Ans: No\n",
    "\n",
    "Then why we need to use stroutputparser ?\n",
    "\n",
    "Ans : will see in next notebook where we use stroutput parser "
   ]
  }
 ],
 "metadata": {
  "kernelspec": {
   "display_name": ".venv",
   "language": "python",
   "name": "python3"
  },
  "language_info": {
   "codemirror_mode": {
    "name": "ipython",
    "version": 3
   },
   "file_extension": ".py",
   "mimetype": "text/x-python",
   "name": "python",
   "nbconvert_exporter": "python",
   "pygments_lexer": "ipython3",
   "version": "3.12.4"
  }
 },
 "nbformat": 4,
 "nbformat_minor": 5
}
