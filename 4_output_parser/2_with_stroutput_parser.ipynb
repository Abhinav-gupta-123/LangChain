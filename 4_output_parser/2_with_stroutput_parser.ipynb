{
 "cells": [
  {
   "cell_type": "code",
   "execution_count": 1,
   "id": "4b128729",
   "metadata": {},
   "outputs": [],
   "source": [
    "from langchain_community.chat_models import ChatOllama\n",
    "from langchain_core.output_parsers import StrOutputParser\n",
    "from langchain_core.prompts import PromptTemplate"
   ]
  },
  {
   "cell_type": "code",
   "execution_count": 2,
   "id": "bc70ff60",
   "metadata": {},
   "outputs": [
    {
     "name": "stderr",
     "output_type": "stream",
     "text": [
      "C:\\Users\\abhin\\AppData\\Local\\Temp\\ipykernel_3332\\674986822.py:1: LangChainDeprecationWarning: The class `ChatOllama` was deprecated in LangChain 0.3.1 and will be removed in 1.0.0. An updated version of the class exists in the :class:`~langchain-ollama package and should be used instead. To use it run `pip install -U :class:`~langchain-ollama` and import as `from :class:`~langchain_ollama import ChatOllama``.\n",
      "  model=ChatOllama(model='llama3.2')\n"
     ]
    }
   ],
   "source": [
    "model=ChatOllama(model='llama3.2')"
   ]
  },
  {
   "cell_type": "code",
   "execution_count": 3,
   "id": "2628de2d",
   "metadata": {},
   "outputs": [],
   "source": [
    "template1=PromptTemplate(\n",
    "    template=\"Write a detailed report on {topic}\",\n",
    "    input_variables=['topic']\n",
    ")"
   ]
  },
  {
   "cell_type": "code",
   "execution_count": 4,
   "id": "77989d60",
   "metadata": {},
   "outputs": [],
   "source": [
    "template2=PromptTemplate(\n",
    "    template='Write a 5 line summary on the following text. /n {text}',\n",
    "    input_variables=['text']\n",
    ")"
   ]
  },
  {
   "cell_type": "code",
   "execution_count": 6,
   "id": "5d242409",
   "metadata": {},
   "outputs": [],
   "source": [
    "parser=StrOutputParser()"
   ]
  },
  {
   "cell_type": "code",
   "execution_count": 7,
   "id": "dd0b9ac2",
   "metadata": {},
   "outputs": [],
   "source": [
    "chain= template1 | model | parser | template2 | model | parser"
   ]
  },
  {
   "cell_type": "code",
   "execution_count": 8,
   "id": "e0fdedd4",
   "metadata": {},
   "outputs": [],
   "source": [
    "result=chain.invoke({'topic':'black hole'})"
   ]
  },
  {
   "cell_type": "code",
   "execution_count": 9,
   "id": "1dcb0359",
   "metadata": {},
   "outputs": [
    {
     "data": {
      "text/plain": [
       "'Here is a 5-line summary of the text:\\n\\nBlack holes are regions of spacetime with such strong gravity that nothing, not even light, can escape once it gets too close. They are formed when a massive star collapses under its own gravity, creating an intense gravitational field. Black holes have several characteristics, including event horizons and singularities, and emit radiation known as Hawking radiation. There are four types of black holes, each with different properties, and scientists continue to study them to learn more about their behavior. Despite significant progress in understanding black holes, many questions remain unanswered, and future research is needed to resolve these open questions.'"
      ]
     },
     "execution_count": 9,
     "metadata": {},
     "output_type": "execute_result"
    }
   ],
   "source": [
    "result"
   ]
  },
  {
   "cell_type": "markdown",
   "id": "5b816c44",
   "metadata": {},
   "source": [
    "So,the main differnece : this code is much clear, short "
   ]
  }
 ],
 "metadata": {
  "kernelspec": {
   "display_name": ".venv",
   "language": "python",
   "name": "python3"
  },
  "language_info": {
   "codemirror_mode": {
    "name": "ipython",
    "version": 3
   },
   "file_extension": ".py",
   "mimetype": "text/x-python",
   "name": "python",
   "nbconvert_exporter": "python",
   "pygments_lexer": "ipython3",
   "version": "3.12.4"
  }
 },
 "nbformat": 4,
 "nbformat_minor": 5
}
