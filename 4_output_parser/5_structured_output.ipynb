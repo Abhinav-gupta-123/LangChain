{
 "cells": [
  {
   "cell_type": "code",
   "execution_count": 1,
   "id": "c92efcde",
   "metadata": {},
   "outputs": [],
   "source": [
    "from langchain_core.prompts import PromptTemplate\n",
    "from langchain.output_parsers import StructuredOutputParser, ResponseSchema\n",
    "from langchain_community.chat_models import ChatOllama"
   ]
  },
  {
   "cell_type": "code",
   "execution_count": 2,
   "id": "9fa6d7e8",
   "metadata": {},
   "outputs": [
    {
     "name": "stderr",
     "output_type": "stream",
     "text": [
      "C:\\Users\\abhin\\AppData\\Local\\Temp\\ipykernel_5272\\674986822.py:1: LangChainDeprecationWarning: The class `ChatOllama` was deprecated in LangChain 0.3.1 and will be removed in 1.0.0. An updated version of the class exists in the :class:`~langchain-ollama package and should be used instead. To use it run `pip install -U :class:`~langchain-ollama` and import as `from :class:`~langchain_ollama import ChatOllama``.\n",
      "  model=ChatOllama(model='llama3.2')\n"
     ]
    }
   ],
   "source": [
    "model=ChatOllama(model='llama3.2')"
   ]
  },
  {
   "cell_type": "code",
   "execution_count": 4,
   "id": "ebc3a823",
   "metadata": {},
   "outputs": [],
   "source": [
    "schema = [\n",
    "    ResponseSchema(name='fact_1', description='Fact 1 about the topic'),\n",
    "    ResponseSchema(name='fact_2', description='Fact 2 about the topic'),\n",
    "    ResponseSchema(name='fact_3', description='Fact 3 about the topic'),\n",
    "]\n",
    "\n",
    "parser = StructuredOutputParser.from_response_schemas(schema)\n",
    "\n",
    "template = PromptTemplate(\n",
    "    template=(\n",
    "        \"Give 3 facts about {topic}.\\n\"\n",
    "        \"Respond ONLY with a valid JSON object with the following keys: fact_1, fact_2, fact_3.\\n\"\n",
    "        \"Do not include any markdown, comments, or extra text.\\n\"\n",
    "        \"Example:\\n\"\n",
    "        '{{\"fact_1\": \"...\", \"fact_2\": \"...\", \"fact_3\": \"...\"}}'\n",
    "    ),\n",
    "    input_variables=['topic'],\n",
    "    partial_variables={}\n",
    ")\n",
    "\n",
    "chain = template | model | parser\n",
    "\n",
    "result = chain.invoke({'topic':'black hole'})"
   ]
  },
  {
   "cell_type": "code",
   "execution_count": 5,
   "id": "729c2408",
   "metadata": {},
   "outputs": [
    {
     "data": {
      "text/plain": [
       "{'fact_1': 'A black hole is formed when a massive star collapses in on itself and its gravity becomes so strong that nothing, not even light, can escape.',\n",
       " 'fact_2': 'The point of no return around a black hole is called the event horizon, which marks the boundary beyond which anything that enters cannot escape.',\n",
       " 'fact_3': 'Black holes are classified into four types based on their spin and charge: stellar-mass, intermediate-mass, supermassive, and miniature black holes.'}"
      ]
     },
     "execution_count": 5,
     "metadata": {},
     "output_type": "execute_result"
    }
   ],
   "source": [
    "result"
   ]
  },
  {
   "cell_type": "code",
   "execution_count": null,
   "id": "12201dee",
   "metadata": {},
   "outputs": [],
   "source": []
  }
 ],
 "metadata": {
  "kernelspec": {
   "display_name": ".venv",
   "language": "python",
   "name": "python3"
  },
  "language_info": {
   "codemirror_mode": {
    "name": "ipython",
    "version": 3
   },
   "file_extension": ".py",
   "mimetype": "text/x-python",
   "name": "python",
   "nbconvert_exporter": "python",
   "pygments_lexer": "ipython3",
   "version": "3.12.4"
  }
 },
 "nbformat": 4,
 "nbformat_minor": 5
}
