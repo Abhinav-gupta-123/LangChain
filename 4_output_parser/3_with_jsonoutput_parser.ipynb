{
 "cells": [
  {
   "cell_type": "code",
   "execution_count": 10,
   "id": "89260016",
   "metadata": {},
   "outputs": [],
   "source": [
    "from langchain_community.chat_models import ChatOllama\n",
    "from langchain_core.output_parsers import JsonOutputParser\n",
    "from langchain_core.prompts import PromptTemplate"
   ]
  },
  {
   "cell_type": "code",
   "execution_count": 11,
   "id": "8cea1ec8",
   "metadata": {},
   "outputs": [],
   "source": [
    "model=ChatOllama(model='llama3.2')"
   ]
  },
  {
   "cell_type": "code",
   "execution_count": 13,
   "id": "d94afb15",
   "metadata": {},
   "outputs": [],
   "source": [
    "parser=JsonOutputParser()"
   ]
  },
  {
   "cell_type": "code",
   "execution_count": 18,
   "id": "6f46b7c9",
   "metadata": {},
   "outputs": [],
   "source": [
    "template = PromptTemplate(\n",
    "    template='Give me 5 facts about {topic} \\n {format_instruction}',\n",
    "    input_variables=['topic'],\n",
    "    partial_variables={'format_instruction': parser.get_format_instructions()}\n",
    ")"
   ]
  },
  {
   "cell_type": "markdown",
   "id": "55bfc46e",
   "metadata": {},
   "source": [
    "partial_variables={'format_instruction': parser.get_format_instructions()\n",
    "\n",
    "this line actually get the formate of data which we want by using parser"
   ]
  },
  {
   "cell_type": "code",
   "execution_count": 19,
   "id": "93ae4ca4",
   "metadata": {},
   "outputs": [],
   "source": [
    "chain = template | model | parser"
   ]
  },
  {
   "cell_type": "code",
   "execution_count": 21,
   "id": "8c348f1e",
   "metadata": {},
   "outputs": [],
   "source": [
    "result = chain.invoke({'topic':'black hole'})"
   ]
  },
  {
   "cell_type": "code",
   "execution_count": 23,
   "id": "2d2fc4ef",
   "metadata": {},
   "outputs": [
    {
     "data": {
      "text/plain": [
       "{'facts': [{'fact_number': 1,\n",
       "   'description': 'Black Holes are formed when massive stars collapse in on themselves.'},\n",
       "  {'fact_number': 2,\n",
       "   'description': \"The point of no return around a black hole is called the event horizon. Once something crosses the event horizon, it's trapped forever.\"},\n",
       "  {'fact_number': 3,\n",
       "   'description': 'Black holes have an incredible strong gravitational pull. The gravitational pull of a black hole gets stronger with distance from the center of the black hole.'},\n",
       "  {'fact_number': 4,\n",
       "   'description': 'If you were to get too close to a black hole, time would appear to slow down for you relative to observers farther away.'},\n",
       "  {'fact_number': 5,\n",
       "   'description': 'Black holes come in four types: stellar, supermassive, intermediate-mass, and miniature. Stellar black holes are formed from the collapse of individual stars, while supermassive black holes reside at the centers of galaxies.'}]}"
      ]
     },
     "execution_count": 23,
     "metadata": {},
     "output_type": "execute_result"
    }
   ],
   "source": [
    "result"
   ]
  },
  {
   "cell_type": "code",
   "execution_count": null,
   "id": "5e5c2e48",
   "metadata": {},
   "outputs": [],
   "source": []
  }
 ],
 "metadata": {
  "kernelspec": {
   "display_name": ".venv",
   "language": "python",
   "name": "python3"
  },
  "language_info": {
   "codemirror_mode": {
    "name": "ipython",
    "version": 3
   },
   "file_extension": ".py",
   "mimetype": "text/x-python",
   "name": "python",
   "nbconvert_exporter": "python",
   "pygments_lexer": "ipython3",
   "version": "3.12.4"
  }
 },
 "nbformat": 4,
 "nbformat_minor": 5
}
