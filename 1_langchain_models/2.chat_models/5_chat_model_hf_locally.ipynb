{
 "cells": [
  {
   "cell_type": "code",
   "execution_count": null,
   "id": "075255dd",
   "metadata": {},
   "outputs": [
    {
     "name": "stderr",
     "output_type": "stream",
     "text": [
      "Device set to use cpu\n",
      "c:\\Users\\abhin\\Desktop\\.venv\\Lib\\site-packages\\transformers\\generation\\configuration_utils.py:631: UserWarning: `do_sample` is set to `False`. However, `temperature` is set to `0.5` -- this flag is only used in sample-based generation modes. You should set `do_sample=True` or unset `temperature`.\n",
      "  warnings.warn(\n"
     ]
    },
    {
     "name": "stdout",
     "output_type": "stream",
     "text": [
      "<|user|>\n",
      "who is the founder of chatgpt</s>\n",
      "<|assistant|>\n",
      "The founder of ChatGPT, OpenAI, is a non-profit artificial intelligence research organization based in San Francisco, California. The organization was founded in 2015 by Sam Altman, Peter Sattentau, and Ian Goodfellow, all of whom are well-known figures in the field of artificial intelligence.\n",
      "\n",
      "The team behind ChatGPT is made up of over 100 researchers, engineers, and data scientists from around\n"
     ]
    }
   ],
   "source": [
    "from langchain_huggingface import ChatHuggingFace, HuggingFacePipeline\n",
    "import os\n",
    "\n",
    "import os\n",
    "\n",
    "# ✅ Set custom path for model cache\n",
    "os.environ['HF_HOME'] = r'C:\\Users\\abhin\\Desktop\\langchain'\n",
    "\n",
    "\n",
    "# llm = HuggingFacePipeline.from_model_id(\n",
    "#     model_id='TinyLlama/TinyLlama-1.1B-Chat-v1.0',\n",
    "#     task='text-generation',\n",
    "#     pipeline_kwargs=dict(\n",
    "#         temperature=0.5,\n",
    "#         max_new_tokens=100,\n",
    "#     )\n",
    "# )\n",
    "model = ChatHuggingFace(llm=llm)\n",
    " \n",
    "result = model.invoke(\"who is the founder of chatgpt\")\n",
    "\n",
    "print(result.content)"
   ]
  },
  {
   "cell_type": "markdown",
   "id": "fbbeffdb",
   "metadata": {},
   "source": [
    "After downloaded the model "
   ]
  },
  {
   "cell_type": "code",
   "execution_count": 4,
   "id": "87e6a65b",
   "metadata": {},
   "outputs": [
    {
     "name": "stderr",
     "output_type": "stream",
     "text": [
      "Device set to use cpu\n",
      "c:\\Users\\abhin\\Desktop\\.venv\\Lib\\site-packages\\transformers\\generation\\configuration_utils.py:631: UserWarning: `do_sample` is set to `False`. However, `temperature` is set to `0.5` -- this flag is only used in sample-based generation modes. You should set `do_sample=True` or unset `temperature`.\n",
      "  warnings.warn(\n"
     ]
    },
    {
     "name": "stdout",
     "output_type": "stream",
     "text": [
      "<|user|>\n",
      "Who is the founder of ChatGPT?</s>\n",
      "<|assistant|>\n",
      "ChatGPT is the brainchild of OpenAI, a non-profit research organization based in San Francisco, California. The company was founded by three researchers: GPT-3's creators, Dustin Bishop, Yoshua Bengio, and Ian Goodfellow.\n",
      "\n",
      "The name \"ChatGPT\" was coined by OpenAI co-founder and CEO Sam Altman in 2018, and the platform was launched in\n"
     ]
    }
   ],
   "source": [
    "from transformers import pipeline, AutoTokenizer, AutoModelForCausalLM\n",
    "from langchain_huggingface import ChatHuggingFace, HuggingFacePipeline\n",
    "\n",
    "# Path to your locally stored TinyLlama model\n",
    "local_model_path = r\"C:\\Users\\abhin\\Desktop\\langchain\\hub\\models--TinyLlama--TinyLlama-1.1B-Chat-v1.0\\snapshots\\fe8a4ea1ffedaf415f4da2f062534de366a451e6\"\n",
    "\n",
    "# Load tokenizer and model from local path\n",
    "tokenizer = AutoTokenizer.from_pretrained(local_model_path)\n",
    "model = AutoModelForCausalLM.from_pretrained(local_model_path)\n",
    "\n",
    "# Create HuggingFace pipeline\n",
    "pipe = pipeline(\n",
    "    task=\"text-generation\",\n",
    "    model=model,\n",
    "    tokenizer=tokenizer,\n",
    "    temperature=0.5,\n",
    "    max_new_tokens=100,\n",
    ")\n",
    "\n",
    "# Wrap the pipeline with LangChain\n",
    "llm = HuggingFacePipeline(pipeline=pipe)\n",
    "chat_model = ChatHuggingFace(llm=llm)\n",
    "\n",
    "# Test the model by invoking a query\n",
    "result = chat_model.invoke(\"Who is the founder of ChatGPT?\")\n",
    "print(result.content)\n"
   ]
  },
  {
   "cell_type": "code",
   "execution_count": null,
   "id": "dc63c743",
   "metadata": {},
   "outputs": [],
   "source": []
  }
 ],
 "metadata": {
  "kernelspec": {
   "display_name": ".venv",
   "language": "python",
   "name": "python3"
  },
  "language_info": {
   "codemirror_mode": {
    "name": "ipython",
    "version": 3
   },
   "file_extension": ".py",
   "mimetype": "text/x-python",
   "name": "python",
   "nbconvert_exporter": "python",
   "pygments_lexer": "ipython3",
   "version": "3.12.4"
  }
 },
 "nbformat": 4,
 "nbformat_minor": 5
}
