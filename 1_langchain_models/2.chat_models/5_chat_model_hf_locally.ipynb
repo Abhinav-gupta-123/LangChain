{
 "cells": [
  {
   "cell_type": "code",
   "execution_count": null,
   "id": "075255dd",
   "metadata": {},
   "outputs": [
    {
     "name": "stderr",
     "output_type": "stream",
     "text": [
      "Device set to use cpu\n",
      "c:\\Users\\abhin\\Desktop\\.venv\\Lib\\site-packages\\transformers\\generation\\configuration_utils.py:631: UserWarning: `do_sample` is set to `False`. However, `temperature` is set to `0.5` -- this flag is only used in sample-based generation modes. You should set `do_sample=True` or unset `temperature`.\n",
      "  warnings.warn(\n"
     ]
    },
    {
     "name": "stdout",
     "output_type": "stream",
     "text": [
      "<|user|>\n",
      "who is the founder of chatgpt</s>\n",
      "<|assistant|>\n",
      "The founder of ChatGPT, OpenAI, is a non-profit artificial intelligence research organization based in San Francisco, California. The organization was founded in 2015 by Sam Altman, Peter Sattentau, and Ian Goodfellow, all of whom are well-known figures in the field of artificial intelligence.\n",
      "\n",
      "The team behind ChatGPT is made up of over 100 researchers, engineers, and data scientists from around\n"
     ]
    }
   ],
   "source": [
    "from langchain_huggingface import ChatHuggingFace, HuggingFacePipeline\n",
    "import os\n",
    "\n",
    "# os.environ['HF_HOME'] = 'D:/huggingface_cache'\n",
    "\n",
    "llm = HuggingFacePipeline.from_model_id(\n",
    "    model_id='TinyLlama/TinyLlama-1.1B-Chat-v1.0',\n",
    "    task='text-generation',\n",
    "    pipeline_kwargs=dict(\n",
    "        temperature=0.5,\n",
    "        max_new_tokens=100,\n",
    "    )\n",
    ")\n",
    "model = ChatHuggingFace(llm=llm)\n",
    " \n",
    "result = model.invoke(\"who is the founder of chatgpt\")\n",
    "\n",
    "print(result.content)"
   ]
  },
  {
   "cell_type": "code",
   "execution_count": null,
   "id": "87e6a65b",
   "metadata": {},
   "outputs": [],
   "source": []
  }
 ],
 "metadata": {
  "kernelspec": {
   "display_name": ".venv",
   "language": "python",
   "name": "python3"
  },
  "language_info": {
   "codemirror_mode": {
    "name": "ipython",
    "version": 3
   },
   "file_extension": ".py",
   "mimetype": "text/x-python",
   "name": "python",
   "nbconvert_exporter": "python",
   "pygments_lexer": "ipython3",
   "version": "3.12.4"
  }
 },
 "nbformat": 4,
 "nbformat_minor": 5
}
