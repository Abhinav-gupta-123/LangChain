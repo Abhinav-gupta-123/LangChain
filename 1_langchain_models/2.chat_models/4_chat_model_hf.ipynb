{
 "cells": [
  {
   "cell_type": "markdown",
   "id": "f1a5d986",
   "metadata": {},
   "source": [
    "USING HUGGINGFACE API \\"
   ]
  },
  {
   "cell_type": "code",
   "execution_count": 20,
   "id": "7066665f",
   "metadata": {},
   "outputs": [],
   "source": [
    "from langchain_huggingface import ChatHuggingFace,HuggingFaceEndpoint\n",
    "from dotenv import load_dotenv\n"
   ]
  },
  {
   "cell_type": "code",
   "execution_count": null,
   "id": "e6b0c028",
   "metadata": {},
   "outputs": [],
   "source": [
    "# load_dotenv()"
   ]
  },
  {
   "cell_type": "code",
   "execution_count": null,
   "id": "2d894822",
   "metadata": {},
   "outputs": [],
   "source": [
    "llms=HuggingFaceEndpoint(\n",
    "    repo_id='TinyLlama/TinyLlama-1.1B-Chat-v1.0',\n",
    "    task=\"text-generation\",\n",
    "    \n",
    ")"
   ]
  },
  {
   "cell_type": "code",
   "execution_count": null,
   "id": "9a7f671e",
   "metadata": {},
   "outputs": [],
   "source": [
    "model=ChatHuggingFace(llm=llms)\n",
    "result=model.invoke(\"what is the capital of india\")\n",
    "print(result)"
   ]
  }
 ],
 "metadata": {
  "kernelspec": {
   "display_name": ".venv",
   "language": "python",
   "name": "python3"
  },
  "language_info": {
   "codemirror_mode": {
    "name": "ipython",
    "version": 3
   },
   "file_extension": ".py",
   "mimetype": "text/x-python",
   "name": "python",
   "nbconvert_exporter": "python",
   "pygments_lexer": "ipython3",
   "version": "3.12.4"
  }
 },
 "nbformat": 4,
 "nbformat_minor": 5
}
