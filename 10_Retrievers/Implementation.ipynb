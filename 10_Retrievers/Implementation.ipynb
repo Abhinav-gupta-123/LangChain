{
 "cells": [
  {
   "cell_type": "markdown",
   "id": "aeded2ad",
   "metadata": {},
   "source": [
    "## Retriever is a runnable object we can intigrate it in chain"
   ]
  },
  {
   "cell_type": "code",
   "execution_count": 1,
   "id": "5438a5a9",
   "metadata": {},
   "outputs": [
    {
     "name": "stdout",
     "output_type": "stream",
     "text": [
      "Requirement already satisfied: langchain in c:\\users\\abhin\\desktop\\.venv\\lib\\site-packages (0.3.24)\n",
      "Requirement already satisfied: chromadb in c:\\users\\abhin\\desktop\\.venv\\lib\\site-packages (1.0.8)\n",
      "Collecting faiss-cpu\n",
      "  Downloading faiss_cpu-1.11.0-cp312-cp312-win_amd64.whl.metadata (5.0 kB)\n",
      "Requirement already satisfied: openai in c:\\users\\abhin\\desktop\\.venv\\lib\\site-packages (1.69.0)\n",
      "Requirement already satisfied: tiktoken in c:\\users\\abhin\\desktop\\.venv\\lib\\site-packages (0.9.0)\n",
      "Requirement already satisfied: langchain_openai in c:\\users\\abhin\\desktop\\.venv\\lib\\site-packages (0.3.14)\n",
      "Requirement already satisfied: langchain-community in c:\\users\\abhin\\desktop\\.venv\\lib\\site-packages (0.3.22)\n",
      "Collecting wikipedia\n",
      "  Downloading wikipedia-1.4.0.tar.gz (27 kB)\n",
      "  Preparing metadata (setup.py): started\n",
      "  Preparing metadata (setup.py): finished with status 'done'\n",
      "Requirement already satisfied: langchain-core<1.0.0,>=0.3.55 in c:\\users\\abhin\\desktop\\.venv\\lib\\site-packages (from langchain) (0.3.55)\n",
      "Requirement already satisfied: langchain-text-splitters<1.0.0,>=0.3.8 in c:\\users\\abhin\\desktop\\.venv\\lib\\site-packages (from langchain) (0.3.8)\n",
      "Requirement already satisfied: langsmith<0.4,>=0.1.17 in c:\\users\\abhin\\desktop\\.venv\\lib\\site-packages (from langchain) (0.3.32)\n",
      "Requirement already satisfied: pydantic<3.0.0,>=2.7.4 in c:\\users\\abhin\\desktop\\.venv\\lib\\site-packages (from langchain) (2.10.6)\n",
      "Requirement already satisfied: SQLAlchemy<3,>=1.4 in c:\\users\\abhin\\desktop\\.venv\\lib\\site-packages (from langchain) (2.0.38)\n",
      "Requirement already satisfied: requests<3,>=2 in c:\\users\\abhin\\desktop\\.venv\\lib\\site-packages (from langchain) (2.32.3)\n",
      "Requirement already satisfied: PyYAML>=5.3 in c:\\users\\abhin\\desktop\\.venv\\lib\\site-packages (from langchain) (6.0.2)\n",
      "Requirement already satisfied: tenacity!=8.4.0,<10.0.0,>=8.1.0 in c:\\users\\abhin\\desktop\\.venv\\lib\\site-packages (from langchain-core<1.0.0,>=0.3.55->langchain) (9.0.0)\n",
      "Requirement already satisfied: jsonpatch<2.0,>=1.33 in c:\\users\\abhin\\desktop\\.venv\\lib\\site-packages (from langchain-core<1.0.0,>=0.3.55->langchain) (1.33)\n",
      "Requirement already satisfied: packaging<25,>=23.2 in c:\\users\\abhin\\desktop\\.venv\\lib\\site-packages (from langchain-core<1.0.0,>=0.3.55->langchain) (24.2)\n",
      "Requirement already satisfied: typing-extensions>=4.7 in c:\\users\\abhin\\desktop\\.venv\\lib\\site-packages (from langchain-core<1.0.0,>=0.3.55->langchain) (4.12.2)\n",
      "Requirement already satisfied: jsonpointer>=1.9 in c:\\users\\abhin\\desktop\\.venv\\lib\\site-packages (from jsonpatch<2.0,>=1.33->langchain-core<1.0.0,>=0.3.55->langchain) (3.0.0)\n",
      "Requirement already satisfied: httpx<1,>=0.23.0 in c:\\users\\abhin\\desktop\\.venv\\lib\\site-packages (from langsmith<0.4,>=0.1.17->langchain) (0.28.1)\n",
      "Requirement already satisfied: orjson<4.0.0,>=3.9.14 in c:\\users\\abhin\\desktop\\.venv\\lib\\site-packages (from langsmith<0.4,>=0.1.17->langchain) (3.10.15)\n",
      "Requirement already satisfied: requests-toolbelt<2.0.0,>=1.0.0 in c:\\users\\abhin\\desktop\\.venv\\lib\\site-packages (from langsmith<0.4,>=0.1.17->langchain) (1.0.0)\n",
      "Requirement already satisfied: zstandard<0.24.0,>=0.23.0 in c:\\users\\abhin\\desktop\\.venv\\lib\\site-packages (from langsmith<0.4,>=0.1.17->langchain) (0.23.0)\n",
      "Requirement already satisfied: anyio in c:\\users\\abhin\\desktop\\.venv\\lib\\site-packages (from httpx<1,>=0.23.0->langsmith<0.4,>=0.1.17->langchain) (4.8.0)\n",
      "Requirement already satisfied: certifi in c:\\users\\abhin\\desktop\\.venv\\lib\\site-packages (from httpx<1,>=0.23.0->langsmith<0.4,>=0.1.17->langchain) (2025.1.31)\n",
      "Requirement already satisfied: httpcore==1.* in c:\\users\\abhin\\desktop\\.venv\\lib\\site-packages (from httpx<1,>=0.23.0->langsmith<0.4,>=0.1.17->langchain) (1.0.7)\n",
      "Requirement already satisfied: idna in c:\\users\\abhin\\desktop\\.venv\\lib\\site-packages (from httpx<1,>=0.23.0->langsmith<0.4,>=0.1.17->langchain) (3.10)\n",
      "Requirement already satisfied: h11<0.15,>=0.13 in c:\\users\\abhin\\desktop\\.venv\\lib\\site-packages (from httpcore==1.*->httpx<1,>=0.23.0->langsmith<0.4,>=0.1.17->langchain) (0.14.0)\n",
      "Requirement already satisfied: annotated-types>=0.6.0 in c:\\users\\abhin\\desktop\\.venv\\lib\\site-packages (from pydantic<3.0.0,>=2.7.4->langchain) (0.7.0)\n",
      "Requirement already satisfied: pydantic-core==2.27.2 in c:\\users\\abhin\\desktop\\.venv\\lib\\site-packages (from pydantic<3.0.0,>=2.7.4->langchain) (2.27.2)\n",
      "Requirement already satisfied: charset-normalizer<4,>=2 in c:\\users\\abhin\\desktop\\.venv\\lib\\site-packages (from requests<3,>=2->langchain) (3.4.1)\n",
      "Requirement already satisfied: urllib3<3,>=1.21.1 in c:\\users\\abhin\\desktop\\.venv\\lib\\site-packages (from requests<3,>=2->langchain) (2.3.0)\n",
      "Requirement already satisfied: greenlet!=0.4.17 in c:\\users\\abhin\\desktop\\.venv\\lib\\site-packages (from SQLAlchemy<3,>=1.4->langchain) (3.1.1)\n",
      "Requirement already satisfied: build>=1.0.3 in c:\\users\\abhin\\desktop\\.venv\\lib\\site-packages (from chromadb) (1.2.2.post1)\n",
      "Requirement already satisfied: fastapi==0.115.9 in c:\\users\\abhin\\desktop\\.venv\\lib\\site-packages (from chromadb) (0.115.9)\n",
      "Requirement already satisfied: uvicorn>=0.18.3 in c:\\users\\abhin\\desktop\\.venv\\lib\\site-packages (from uvicorn[standard]>=0.18.3->chromadb) (0.34.0)\n",
      "Requirement already satisfied: numpy>=1.22.5 in c:\\users\\abhin\\desktop\\.venv\\lib\\site-packages (from chromadb) (1.26.4)\n",
      "Requirement already satisfied: posthog>=2.4.0 in c:\\users\\abhin\\desktop\\.venv\\lib\\site-packages (from chromadb) (4.0.1)\n",
      "Requirement already satisfied: onnxruntime>=1.14.1 in c:\\users\\abhin\\desktop\\.venv\\lib\\site-packages (from chromadb) (1.21.0)\n",
      "Requirement already satisfied: opentelemetry-api>=1.2.0 in c:\\users\\abhin\\desktop\\.venv\\lib\\site-packages (from chromadb) (1.33.0)\n",
      "Requirement already satisfied: opentelemetry-exporter-otlp-proto-grpc>=1.2.0 in c:\\users\\abhin\\desktop\\.venv\\lib\\site-packages (from chromadb) (1.33.0)\n",
      "Requirement already satisfied: opentelemetry-instrumentation-fastapi>=0.41b0 in c:\\users\\abhin\\desktop\\.venv\\lib\\site-packages (from chromadb) (0.54b0)\n",
      "Requirement already satisfied: opentelemetry-sdk>=1.2.0 in c:\\users\\abhin\\desktop\\.venv\\lib\\site-packages (from chromadb) (1.33.0)\n",
      "Requirement already satisfied: tokenizers>=0.13.2 in c:\\users\\abhin\\desktop\\.venv\\lib\\site-packages (from chromadb) (0.21.0)\n",
      "Requirement already satisfied: pypika>=0.48.9 in c:\\users\\abhin\\desktop\\.venv\\lib\\site-packages (from chromadb) (0.48.9)\n",
      "Requirement already satisfied: tqdm>=4.65.0 in c:\\users\\abhin\\desktop\\.venv\\lib\\site-packages (from chromadb) (4.67.1)\n",
      "Requirement already satisfied: overrides>=7.3.1 in c:\\users\\abhin\\desktop\\.venv\\lib\\site-packages (from chromadb) (7.7.0)\n",
      "Requirement already satisfied: importlib-resources in c:\\users\\abhin\\desktop\\.venv\\lib\\site-packages (from chromadb) (6.5.2)\n",
      "Requirement already satisfied: grpcio>=1.58.0 in c:\\users\\abhin\\desktop\\.venv\\lib\\site-packages (from chromadb) (1.71.0)\n",
      "Requirement already satisfied: bcrypt>=4.0.1 in c:\\users\\abhin\\desktop\\.venv\\lib\\site-packages (from chromadb) (4.3.0)\n",
      "Requirement already satisfied: typer>=0.9.0 in c:\\users\\abhin\\desktop\\.venv\\lib\\site-packages (from chromadb) (0.15.2)\n",
      "Requirement already satisfied: kubernetes>=28.1.0 in c:\\users\\abhin\\desktop\\.venv\\lib\\site-packages (from chromadb) (32.0.1)\n",
      "Requirement already satisfied: mmh3>=4.0.1 in c:\\users\\abhin\\desktop\\.venv\\lib\\site-packages (from chromadb) (5.1.0)\n",
      "Requirement already satisfied: rich>=10.11.0 in c:\\users\\abhin\\desktop\\.venv\\lib\\site-packages (from chromadb) (13.9.4)\n",
      "Requirement already satisfied: jsonschema>=4.19.0 in c:\\users\\abhin\\desktop\\.venv\\lib\\site-packages (from chromadb) (4.23.0)\n",
      "Requirement already satisfied: starlette<0.46.0,>=0.40.0 in c:\\users\\abhin\\desktop\\.venv\\lib\\site-packages (from fastapi==0.115.9->chromadb) (0.45.3)\n",
      "Requirement already satisfied: sniffio>=1.1 in c:\\users\\abhin\\desktop\\.venv\\lib\\site-packages (from anyio->httpx<1,>=0.23.0->langsmith<0.4,>=0.1.17->langchain) (1.3.1)\n",
      "Requirement already satisfied: distro<2,>=1.7.0 in c:\\users\\abhin\\desktop\\.venv\\lib\\site-packages (from openai) (1.9.0)\n",
      "Requirement already satisfied: jiter<1,>=0.4.0 in c:\\users\\abhin\\desktop\\.venv\\lib\\site-packages (from openai) (0.9.0)\n",
      "Requirement already satisfied: regex>=2022.1.18 in c:\\users\\abhin\\desktop\\.venv\\lib\\site-packages (from tiktoken) (2024.11.6)\n",
      "Requirement already satisfied: aiohttp<4.0.0,>=3.8.3 in c:\\users\\abhin\\desktop\\.venv\\lib\\site-packages (from langchain-community) (3.11.14)\n",
      "Requirement already satisfied: dataclasses-json<0.7,>=0.5.7 in c:\\users\\abhin\\desktop\\.venv\\lib\\site-packages (from langchain-community) (0.6.7)\n",
      "Requirement already satisfied: pydantic-settings<3.0.0,>=2.4.0 in c:\\users\\abhin\\desktop\\.venv\\lib\\site-packages (from langchain-community) (2.9.1)\n",
      "Requirement already satisfied: httpx-sse<1.0.0,>=0.4.0 in c:\\users\\abhin\\desktop\\.venv\\lib\\site-packages (from langchain-community) (0.4.0)\n",
      "Requirement already satisfied: aiohappyeyeballs>=2.3.0 in c:\\users\\abhin\\desktop\\.venv\\lib\\site-packages (from aiohttp<4.0.0,>=3.8.3->langchain-community) (2.6.1)\n",
      "Requirement already satisfied: aiosignal>=1.1.2 in c:\\users\\abhin\\desktop\\.venv\\lib\\site-packages (from aiohttp<4.0.0,>=3.8.3->langchain-community) (1.3.2)\n",
      "Requirement already satisfied: attrs>=17.3.0 in c:\\users\\abhin\\desktop\\.venv\\lib\\site-packages (from aiohttp<4.0.0,>=3.8.3->langchain-community) (25.3.0)\n",
      "Requirement already satisfied: frozenlist>=1.1.1 in c:\\users\\abhin\\desktop\\.venv\\lib\\site-packages (from aiohttp<4.0.0,>=3.8.3->langchain-community) (1.5.0)\n",
      "Requirement already satisfied: multidict<7.0,>=4.5 in c:\\users\\abhin\\desktop\\.venv\\lib\\site-packages (from aiohttp<4.0.0,>=3.8.3->langchain-community) (6.2.0)\n",
      "Requirement already satisfied: propcache>=0.2.0 in c:\\users\\abhin\\desktop\\.venv\\lib\\site-packages (from aiohttp<4.0.0,>=3.8.3->langchain-community) (0.3.0)\n",
      "Requirement already satisfied: yarl<2.0,>=1.17.0 in c:\\users\\abhin\\desktop\\.venv\\lib\\site-packages (from aiohttp<4.0.0,>=3.8.3->langchain-community) (1.18.3)\n",
      "Requirement already satisfied: marshmallow<4.0.0,>=3.18.0 in c:\\users\\abhin\\desktop\\.venv\\lib\\site-packages (from dataclasses-json<0.7,>=0.5.7->langchain-community) (3.26.1)\n",
      "Requirement already satisfied: typing-inspect<1,>=0.4.0 in c:\\users\\abhin\\desktop\\.venv\\lib\\site-packages (from dataclasses-json<0.7,>=0.5.7->langchain-community) (0.9.0)\n",
      "Requirement already satisfied: python-dotenv>=0.21.0 in c:\\users\\abhin\\desktop\\.venv\\lib\\site-packages (from pydantic-settings<3.0.0,>=2.4.0->langchain-community) (1.0.1)\n",
      "Requirement already satisfied: typing-inspection>=0.4.0 in c:\\users\\abhin\\desktop\\.venv\\lib\\site-packages (from pydantic-settings<3.0.0,>=2.4.0->langchain-community) (0.4.0)\n",
      "Requirement already satisfied: mypy-extensions>=0.3.0 in c:\\users\\abhin\\desktop\\.venv\\lib\\site-packages (from typing-inspect<1,>=0.4.0->dataclasses-json<0.7,>=0.5.7->langchain-community) (1.1.0)\n",
      "Requirement already satisfied: beautifulsoup4 in c:\\users\\abhin\\desktop\\.venv\\lib\\site-packages (from wikipedia) (4.13.3)\n",
      "Requirement already satisfied: pyproject_hooks in c:\\users\\abhin\\desktop\\.venv\\lib\\site-packages (from build>=1.0.3->chromadb) (1.2.0)\n",
      "Requirement already satisfied: colorama in c:\\users\\abhin\\desktop\\.venv\\lib\\site-packages (from build>=1.0.3->chromadb) (0.4.6)\n",
      "Requirement already satisfied: jsonschema-specifications>=2023.03.6 in c:\\users\\abhin\\desktop\\.venv\\lib\\site-packages (from jsonschema>=4.19.0->chromadb) (2024.10.1)\n",
      "Requirement already satisfied: referencing>=0.28.4 in c:\\users\\abhin\\desktop\\.venv\\lib\\site-packages (from jsonschema>=4.19.0->chromadb) (0.36.2)\n",
      "Requirement already satisfied: rpds-py>=0.7.1 in c:\\users\\abhin\\desktop\\.venv\\lib\\site-packages (from jsonschema>=4.19.0->chromadb) (0.22.3)\n",
      "Requirement already satisfied: six>=1.9.0 in c:\\users\\abhin\\desktop\\.venv\\lib\\site-packages (from kubernetes>=28.1.0->chromadb) (1.17.0)\n",
      "Requirement already satisfied: python-dateutil>=2.5.3 in c:\\users\\abhin\\desktop\\.venv\\lib\\site-packages (from kubernetes>=28.1.0->chromadb) (2.9.0.post0)\n",
      "Requirement already satisfied: google-auth>=1.0.1 in c:\\users\\abhin\\desktop\\.venv\\lib\\site-packages (from kubernetes>=28.1.0->chromadb) (2.38.0)\n",
      "Requirement already satisfied: websocket-client!=0.40.0,!=0.41.*,!=0.42.*,>=0.32.0 in c:\\users\\abhin\\desktop\\.venv\\lib\\site-packages (from kubernetes>=28.1.0->chromadb) (1.8.0)\n",
      "Requirement already satisfied: requests-oauthlib in c:\\users\\abhin\\desktop\\.venv\\lib\\site-packages (from kubernetes>=28.1.0->chromadb) (2.0.0)\n",
      "Requirement already satisfied: oauthlib>=3.2.2 in c:\\users\\abhin\\desktop\\.venv\\lib\\site-packages (from kubernetes>=28.1.0->chromadb) (3.2.2)\n",
      "Requirement already satisfied: durationpy>=0.7 in c:\\users\\abhin\\desktop\\.venv\\lib\\site-packages (from kubernetes>=28.1.0->chromadb) (0.9)\n",
      "Requirement already satisfied: cachetools<6.0,>=2.0.0 in c:\\users\\abhin\\desktop\\.venv\\lib\\site-packages (from google-auth>=1.0.1->kubernetes>=28.1.0->chromadb) (5.5.2)\n",
      "Requirement already satisfied: pyasn1-modules>=0.2.1 in c:\\users\\abhin\\desktop\\.venv\\lib\\site-packages (from google-auth>=1.0.1->kubernetes>=28.1.0->chromadb) (0.4.1)\n",
      "Requirement already satisfied: rsa<5,>=3.1.4 in c:\\users\\abhin\\desktop\\.venv\\lib\\site-packages (from google-auth>=1.0.1->kubernetes>=28.1.0->chromadb) (4.9)\n",
      "Requirement already satisfied: pyasn1>=0.1.3 in c:\\users\\abhin\\desktop\\.venv\\lib\\site-packages (from rsa<5,>=3.1.4->google-auth>=1.0.1->kubernetes>=28.1.0->chromadb) (0.6.1)\n",
      "Requirement already satisfied: coloredlogs in c:\\users\\abhin\\desktop\\.venv\\lib\\site-packages (from onnxruntime>=1.14.1->chromadb) (15.0.1)\n",
      "Requirement already satisfied: flatbuffers in c:\\users\\abhin\\desktop\\.venv\\lib\\site-packages (from onnxruntime>=1.14.1->chromadb) (25.2.10)\n",
      "Requirement already satisfied: protobuf in c:\\users\\abhin\\desktop\\.venv\\lib\\site-packages (from onnxruntime>=1.14.1->chromadb) (5.29.4)\n",
      "Requirement already satisfied: sympy in c:\\users\\abhin\\desktop\\.venv\\lib\\site-packages (from onnxruntime>=1.14.1->chromadb) (1.13.3)\n",
      "Requirement already satisfied: deprecated>=1.2.6 in c:\\users\\abhin\\desktop\\.venv\\lib\\site-packages (from opentelemetry-api>=1.2.0->chromadb) (1.2.18)\n",
      "Requirement already satisfied: importlib-metadata<8.7.0,>=6.0 in c:\\users\\abhin\\desktop\\.venv\\lib\\site-packages (from opentelemetry-api>=1.2.0->chromadb) (8.6.1)\n",
      "Requirement already satisfied: zipp>=3.20 in c:\\users\\abhin\\desktop\\.venv\\lib\\site-packages (from importlib-metadata<8.7.0,>=6.0->opentelemetry-api>=1.2.0->chromadb) (3.21.0)\n",
      "Requirement already satisfied: wrapt<2,>=1.10 in c:\\users\\abhin\\desktop\\.venv\\lib\\site-packages (from deprecated>=1.2.6->opentelemetry-api>=1.2.0->chromadb) (1.17.2)\n",
      "Requirement already satisfied: googleapis-common-protos~=1.52 in c:\\users\\abhin\\desktop\\.venv\\lib\\site-packages (from opentelemetry-exporter-otlp-proto-grpc>=1.2.0->chromadb) (1.69.2)\n",
      "Requirement already satisfied: opentelemetry-exporter-otlp-proto-common==1.33.0 in c:\\users\\abhin\\desktop\\.venv\\lib\\site-packages (from opentelemetry-exporter-otlp-proto-grpc>=1.2.0->chromadb) (1.33.0)\n",
      "Requirement already satisfied: opentelemetry-proto==1.33.0 in c:\\users\\abhin\\desktop\\.venv\\lib\\site-packages (from opentelemetry-exporter-otlp-proto-grpc>=1.2.0->chromadb) (1.33.0)\n",
      "Requirement already satisfied: opentelemetry-semantic-conventions==0.54b0 in c:\\users\\abhin\\desktop\\.venv\\lib\\site-packages (from opentelemetry-sdk>=1.2.0->chromadb) (0.54b0)\n",
      "Requirement already satisfied: opentelemetry-instrumentation-asgi==0.54b0 in c:\\users\\abhin\\desktop\\.venv\\lib\\site-packages (from opentelemetry-instrumentation-fastapi>=0.41b0->chromadb) (0.54b0)\n",
      "Requirement already satisfied: opentelemetry-instrumentation==0.54b0 in c:\\users\\abhin\\desktop\\.venv\\lib\\site-packages (from opentelemetry-instrumentation-fastapi>=0.41b0->chromadb) (0.54b0)\n",
      "Requirement already satisfied: opentelemetry-util-http==0.54b0 in c:\\users\\abhin\\desktop\\.venv\\lib\\site-packages (from opentelemetry-instrumentation-fastapi>=0.41b0->chromadb) (0.54b0)\n",
      "Requirement already satisfied: asgiref~=3.0 in c:\\users\\abhin\\desktop\\.venv\\lib\\site-packages (from opentelemetry-instrumentation-asgi==0.54b0->opentelemetry-instrumentation-fastapi>=0.41b0->chromadb) (3.8.1)\n",
      "Requirement already satisfied: backoff>=1.10.0 in c:\\users\\abhin\\desktop\\.venv\\lib\\site-packages (from posthog>=2.4.0->chromadb) (2.2.1)\n",
      "Requirement already satisfied: markdown-it-py>=2.2.0 in c:\\users\\abhin\\desktop\\.venv\\lib\\site-packages (from rich>=10.11.0->chromadb) (3.0.0)\n",
      "Requirement already satisfied: pygments<3.0.0,>=2.13.0 in c:\\users\\abhin\\desktop\\.venv\\lib\\site-packages (from rich>=10.11.0->chromadb) (2.19.1)\n",
      "Requirement already satisfied: mdurl~=0.1 in c:\\users\\abhin\\desktop\\.venv\\lib\\site-packages (from markdown-it-py>=2.2.0->rich>=10.11.0->chromadb) (0.1.2)\n",
      "Requirement already satisfied: huggingface-hub<1.0,>=0.16.4 in c:\\users\\abhin\\desktop\\.venv\\lib\\site-packages (from tokenizers>=0.13.2->chromadb) (0.30.2)\n",
      "Requirement already satisfied: filelock in c:\\users\\abhin\\desktop\\.venv\\lib\\site-packages (from huggingface-hub<1.0,>=0.16.4->tokenizers>=0.13.2->chromadb) (3.17.0)\n",
      "Requirement already satisfied: fsspec>=2023.5.0 in c:\\users\\abhin\\desktop\\.venv\\lib\\site-packages (from huggingface-hub<1.0,>=0.16.4->tokenizers>=0.13.2->chromadb) (2024.12.0)\n",
      "Requirement already satisfied: click>=8.0.0 in c:\\users\\abhin\\desktop\\.venv\\lib\\site-packages (from typer>=0.9.0->chromadb) (8.1.8)\n",
      "Requirement already satisfied: shellingham>=1.3.0 in c:\\users\\abhin\\desktop\\.venv\\lib\\site-packages (from typer>=0.9.0->chromadb) (1.5.4)\n",
      "Requirement already satisfied: httptools>=0.6.3 in c:\\users\\abhin\\desktop\\.venv\\lib\\site-packages (from uvicorn[standard]>=0.18.3->chromadb) (0.6.4)\n",
      "Requirement already satisfied: watchfiles>=0.13 in c:\\users\\abhin\\desktop\\.venv\\lib\\site-packages (from uvicorn[standard]>=0.18.3->chromadb) (1.0.5)\n",
      "Requirement already satisfied: websockets>=10.4 in c:\\users\\abhin\\desktop\\.venv\\lib\\site-packages (from uvicorn[standard]>=0.18.3->chromadb) (15.0)\n",
      "Requirement already satisfied: soupsieve>1.2 in c:\\users\\abhin\\desktop\\.venv\\lib\\site-packages (from beautifulsoup4->wikipedia) (2.6)\n",
      "Requirement already satisfied: humanfriendly>=9.1 in c:\\users\\abhin\\desktop\\.venv\\lib\\site-packages (from coloredlogs->onnxruntime>=1.14.1->chromadb) (10.0)\n",
      "Requirement already satisfied: pyreadline3 in c:\\users\\abhin\\desktop\\.venv\\lib\\site-packages (from humanfriendly>=9.1->coloredlogs->onnxruntime>=1.14.1->chromadb) (3.5.4)\n",
      "Requirement already satisfied: mpmath<1.4,>=1.1.0 in c:\\users\\abhin\\desktop\\.venv\\lib\\site-packages (from sympy->onnxruntime>=1.14.1->chromadb) (1.3.0)\n",
      "Downloading faiss_cpu-1.11.0-cp312-cp312-win_amd64.whl (15.0 MB)\n",
      "   ---------------------------------------- 0.0/15.0 MB ? eta -:--:--\n",
      "   ------ --------------------------------- 2.6/15.0 MB 15.1 MB/s eta 0:00:01\n",
      "   --------------- ------------------------ 5.8/15.0 MB 14.7 MB/s eta 0:00:01\n",
      "   ------------------------- -------------- 9.4/15.0 MB 15.9 MB/s eta 0:00:01\n",
      "   ---------------------------------------- 15.0/15.0 MB 18.9 MB/s eta 0:00:00\n",
      "Building wheels for collected packages: wikipedia\n",
      "  Building wheel for wikipedia (setup.py): started\n",
      "  Building wheel for wikipedia (setup.py): finished with status 'done'\n",
      "  Created wheel for wikipedia: filename=wikipedia-1.4.0-py3-none-any.whl size=11787 sha256=a7151e130b6a46d1c80076fb336eb5c21099a14e66c413c1df9ee88b9c39c990\n",
      "  Stored in directory: c:\\users\\abhin\\appdata\\local\\pip\\cache\\wheels\\63\\47\\7c\\a9688349aa74d228ce0a9023229c6c0ac52ca2a40fe87679b8\n",
      "Successfully built wikipedia\n",
      "Installing collected packages: faiss-cpu, wikipedia\n",
      "\n",
      "   ---------------------------------------- 0/2 [faiss-cpu]\n",
      "   ---------------------------------------- 0/2 [faiss-cpu]\n",
      "   ---------------------------------------- 0/2 [faiss-cpu]\n",
      "   ---------------------------------------- 0/2 [faiss-cpu]\n",
      "   ---------------------------------------- 0/2 [faiss-cpu]\n",
      "   ---------------------------------------- 0/2 [faiss-cpu]\n",
      "   ---------------------------------------- 0/2 [faiss-cpu]\n",
      "   ---------------------------------------- 2/2 [wikipedia]\n",
      "\n",
      "Successfully installed faiss-cpu-1.11.0 wikipedia-1.4.0\n"
     ]
    },
    {
     "name": "stderr",
     "output_type": "stream",
     "text": [
      "  DEPRECATION: Building 'wikipedia' using the legacy setup.py bdist_wheel mechanism, which will be removed in a future version. pip 25.3 will enforce this behaviour change. A possible replacement is to use the standardized build interface by setting the `--use-pep517` option, (possibly combined with `--no-build-isolation`), or adding a `pyproject.toml` file to the source tree of 'wikipedia'. Discussion can be found at https://github.com/pypa/pip/issues/6334\n"
     ]
    }
   ],
   "source": [
    "!pip install langchain chromadb faiss-cpu openai tiktoken langchain_openai langchain-community wikipedia"
   ]
  },
  {
   "cell_type": "code",
   "execution_count": 2,
   "id": "7e6530dc",
   "metadata": {},
   "outputs": [],
   "source": [
    "from langchain_community.retrievers import WikipediaRetriever"
   ]
  },
  {
   "cell_type": "code",
   "execution_count": 3,
   "id": "535c3b4b",
   "metadata": {},
   "outputs": [],
   "source": [
    "# Initialize the retriever (optional: set language and top_k)\n",
    "retriever = WikipediaRetriever(top_k_results=2, lang=\"en\")"
   ]
  },
  {
   "cell_type": "code",
   "execution_count": 4,
   "id": "731b9e57",
   "metadata": {},
   "outputs": [],
   "source": [
    "\n",
    "# Define your query\n",
    "query = \"the geopolitical history of india and pakistan from the perspective of a chinese\"\n",
    "\n",
    "# Get relevant Wikipedia documents\n",
    "docs = retriever.invoke(query)"
   ]
  },
  {
   "cell_type": "code",
   "execution_count": 6,
   "id": "4844ae64",
   "metadata": {},
   "outputs": [
    {
     "name": "stdout",
     "output_type": "stream",
     "text": [
      "[Document(metadata={'title': 'Foreign relations of Pakistan', 'summary': \"The Islamic Republic of Pakistan emerged as an independent country through the partition of India in August 1947 and was admitted as a United Nations member state in September 1947. It is currently the second-largest country within the Muslim world in terms of population, and is also the only Muslim-majority country in possession of nuclear weapons. De facto, the country shares direct land borders with India, Iran, Afghanistan, and China.\\nThe country has extensive trade relations with the European Union and with several countries globally. As of 2023, Pakistan does not recognize two other United Nations member states (Armenia and Israel) and its ties with India remain frozen since 2019.\\nFrom a geopolitical perspective, Pakistan's location is strategically important as it is situated at the crossroads of major maritime and land transit routes between the Middle East and South Asia, while also serving as a bridge between the Arabian Sea and the energy-rich regions of Central Asia. Since the partition of India, the Kashmir conflict has defined the India–Pakistan relationship: the two countries claim each other's zones of control in Kashmir, but are separated by a ceasefire boundary known as the Line of Control. Pakistan has close bilateral ties with China and the Muslim world, including Turkey, Saudi Arabia, and the Gulf Arab countries. As a part of the First World during the Cold War, Pakistan closely cooperated with the United States to combat the global influence of the Soviet Union, though this relationship later became strained over the course of the War on Terror. Pakistan is an active member of the Commonwealth of Nations, Organization of Islamic Cooperation, and the Shanghai Cooperation Organization.king\", 'source': 'https://en.wikipedia.org/wiki/Foreign_relations_of_Pakistan'}, page_content='The Islamic Republic of Pakistan emerged as an independent country through the partition of India in August 1947 and was admitted as a United Nations member state in September 1947. It is currently the second-largest country within the Muslim world in terms of population, and is also the only Muslim-majority country in possession of nuclear weapons. De facto, the country shares direct land borders with India, Iran, Afghanistan, and China.\\nThe country has extensive trade relations with the European Union and with several countries globally. As of 2023, Pakistan does not recognize two other United Nations member states (Armenia and Israel) and its ties with India remain frozen since 2019.\\nFrom a geopolitical perspective, Pakistan\\'s location is strategically important as it is situated at the crossroads of major maritime and land transit routes between the Middle East and South Asia, while also serving as a bridge between the Arabian Sea and the energy-rich regions of Central Asia. Since the partition of India, the Kashmir conflict has defined the India–Pakistan relationship: the two countries claim each other\\'s zones of control in Kashmir, but are separated by a ceasefire boundary known as the Line of Control. Pakistan has close bilateral ties with China and the Muslim world, including Turkey, Saudi Arabia, and the Gulf Arab countries. As a part of the First World during the Cold War, Pakistan closely cooperated with the United States to combat the global influence of the Soviet Union, though this relationship later became strained over the course of the War on Terror. Pakistan is an active member of the Commonwealth of Nations, Organization of Islamic Cooperation, and the Shanghai Cooperation Organization.king\\n\\n\\n== Foreign policy of Pakistan ==\\nPakistan\\'s foreign policy seeks to \\'promote the internationally recognized norms of interstate relations, i.e. respect for sovereignty and territorial integrity of all States, non-interference in the internal affairs of other State; non-aggression and peaceful settlement of disputes. Pakistan has therefore always sought to develop friendly and cordial relations with all countries of the world\\'.\\nPakistan\\'s foreign policy is meant to formalize and define its interactions with foreign nations and standardize interactions with organizations, corporations and individual citizens. Backed by the semi-agricultural and semi-industrialized economy, Pakistan is the 47th largest (nominal GDP, 2021) and 23rd largest (purchasing) economic power and 6th largest military in the world, with a defence budget of US$11.4 billion (2018) 4.0% of its GDP (2018). The Foreign Minister of Pakistan is the official charged with state-to-state diplomacy, although the Prime minister maintains an ultimate authority over foreign policy. The state foreign policy includes defining the national interest, as well as the economic interest and strategies chosen both to safeguard that and to achieve its policy goals. Following the general election held in May 2013, Tariq Fatimi and NSA Sartaj Aziz were designated as advisers to the Prime Minister on foreign and strategic policies. After the dismissal of Nawaz Sharif\\'s government in July 2017, Khawaja Muhammad Asif held the portfolio of foreign minister under the premiership of Shahid Khaqan Abbasi. After the victory of Imran Khan Niazi in the Pakistan General Elections 2018, Shah Mehmood Qureshi was named the Minister of Foreign Affairs. Subsequently, Bilawal Bhutto Zardari became foreign minister after the political crisis-a position previously held by his grandfather, Zulfikar Ali Bhutto, and Hina Rabbani Khar.\\n\\n\\n=== M A Jinnah\\'s Vision ===\\nIn 1947, Muhammad Ali Jinnah, founder of the state of Pakistan, clearly described the principles and objectives of Pakistan\\'s foreign policy in a broadcast message, which is featured prominently in a quotation on the homepage of Pakistan\\'s Ministry of Foreign Affairs website: \"The foundation of our foreign policy is friendship with all n'), Document(metadata={'title': 'China–India relations', 'summary': \"China and India have historically maintained peaceful relations for thousands of years of recorded history, but the harmony of their relationship has varied in modern times, after the Chinese Communist Party's victory in the Chinese Civil War in 1949, and especially post the Annexation of Tibet by the People's Republic of China. The two nations have sought economic cooperation with each other, while frequent border disputes and economic nationalism in both countries are major points of contention.\\nCultural and economic relations between China and India date back to ancient times. The Silk Road not only served as a major trade route between India and China, but is also credited for facilitating the spread of Buddhism from India to East Asia. During the 19th century, China was involved in a growing opium trade with the East India Company, which exported opium grown in India. During World War II, both British India and the Republic of China (ROC) played a crucial role in halting the progress of Imperial Japan. After India became independent in 1947, it established relations with the ROC. The modern Sino-Indian diplomatic relationship began in 1950, when India was among the first noncommunist countries to end formal relations with the Republic of China and recognise the PRC as the legitimate government of both Mainland China and Taiwan. China and India are two of the major regional powers in Asia, and are the two most populous countries and among the fastest growing major economies in the world.\\nGrowth in diplomatic and economic influence has increased the significance of their bilateral relationship. Between 2008 and 2021, China has been India's largest trading partner, and the two countries have also extended their strategic and military relations. However, conflict of interest leads to hostility. India has a large trade deficit that is favoured towards China. The two countries failed to resolve their border dispute and Indian media outlets have repeatedly reported Chinese military incursions into Indian territory. And relations between contemporary China and India have been characterised by border disputes, resulting in three military conflicts – the Sino-Indian War of 1962, the border clashes in Nathu La and Cho La in 1967, and the 1987 Sumdorong Chu standoff. Since the late 1980s, both countries have successfully rebuilt diplomatic and economic ties. \\nSince 2013, border disputes have reemerged to take centre stage in the two countries' mutual relations. In early 2018, the two armies got engaged in a standoff at the Doklam plateau along the disputed Bhutan-China border. Since summer 2020, armed standoffs and skirmishes at multiple locations along the entire Sino-Indian border escalated. A serious clash occurred in the Galwan Valley, resulting in the death of 20 Indian soldiers and many Chinese soldiers. Both countries have steadily established military infrastructure along border areas, including amidst the 2020 China–India skirmishes. Additionally, India remains wary about China's strong strategic bilateral relations with Pakistan, and China's relations to separatist groups in Northeast India, while China has expressed concerns about Indian military and economic activities in the disputed South China Sea as well as hosting of anti-China activity from Tibetan exiles. Today, the South Asian region is the premier site of intensified great power competition between China and India.\", 'source': 'https://en.wikipedia.org/wiki/China%E2%80%93India_relations'}, page_content='China and India have historically maintained peaceful relations for thousands of years of recorded history, but the harmony of their relationship has varied in modern times, after the Chinese Communist Party\\'s victory in the Chinese Civil War in 1949, and especially post the Annexation of Tibet by the People\\'s Republic of China. The two nations have sought economic cooperation with each other, while frequent border disputes and economic nationalism in both countries are major points of contention.\\nCultural and economic relations between China and India date back to ancient times. The Silk Road not only served as a major trade route between India and China, but is also credited for facilitating the spread of Buddhism from India to East Asia. During the 19th century, China was involved in a growing opium trade with the East India Company, which exported opium grown in India. During World War II, both British India and the Republic of China (ROC) played a crucial role in halting the progress of Imperial Japan. After India became independent in 1947, it established relations with the ROC. The modern Sino-Indian diplomatic relationship began in 1950, when India was among the first noncommunist countries to end formal relations with the Republic of China and recognise the PRC as the legitimate government of both Mainland China and Taiwan. China and India are two of the major regional powers in Asia, and are the two most populous countries and among the fastest growing major economies in the world.\\nGrowth in diplomatic and economic influence has increased the significance of their bilateral relationship. Between 2008 and 2021, China has been India\\'s largest trading partner, and the two countries have also extended their strategic and military relations. However, conflict of interest leads to hostility. India has a large trade deficit that is favoured towards China. The two countries failed to resolve their border dispute and Indian media outlets have repeatedly reported Chinese military incursions into Indian territory. And relations between contemporary China and India have been characterised by border disputes, resulting in three military conflicts – the Sino-Indian War of 1962, the border clashes in Nathu La and Cho La in 1967, and the 1987 Sumdorong Chu standoff. Since the late 1980s, both countries have successfully rebuilt diplomatic and economic ties. \\nSince 2013, border disputes have reemerged to take centre stage in the two countries\\' mutual relations. In early 2018, the two armies got engaged in a standoff at the Doklam plateau along the disputed Bhutan-China border. Since summer 2020, armed standoffs and skirmishes at multiple locations along the entire Sino-Indian border escalated. A serious clash occurred in the Galwan Valley, resulting in the death of 20 Indian soldiers and many Chinese soldiers. Both countries have steadily established military infrastructure along border areas, including amidst the 2020 China–India skirmishes. Additionally, India remains wary about China\\'s strong strategic bilateral relations with Pakistan, and China\\'s relations to separatist groups in Northeast India, while China has expressed concerns about Indian military and economic activities in the disputed South China Sea as well as hosting of anti-China activity from Tibetan exiles. Today, the South Asian region is the premier site of intensified great power competition between China and India.\\n\\n\\n== Geopolitical overview ==\\n\\nThe China–India border straddles the Himalayas, with Nepal and Bhutan acting as buffer states. Parts of the disputed Kashmir region claimed by India (J&K and Ladakh) are claimed and administered by either Pakistan (Azad Kashmir and Gilgit Baltistan) or by the PRC (Aksai Chin). The Government of Pakistan, on its maps, shows the Aksai Chin area as mostly within China and labels the boundary \"Frontier Undefined\", while India holds that Aksai Chin is illegally occupied by the PRC. China and India also dispute most of Arunacha')]\n"
     ]
    }
   ],
   "source": [
    "print(docs)"
   ]
  },
  {
   "cell_type": "code",
   "execution_count": 7,
   "id": "0a61a323",
   "metadata": {},
   "outputs": [
    {
     "name": "stdout",
     "output_type": "stream",
     "text": [
      "\n",
      "--- Result 1 ---\n",
      "Content:\n",
      "The Islamic Republic of Pakistan emerged as an independent country through the partition of India in August 1947 and was admitted as a United Nations member state in September 1947. It is currently the second-largest country within the Muslim world in terms of population, and is also the only Muslim-majority country in possession of nuclear weapons. De facto, the country shares direct land borders with India, Iran, Afghanistan, and China.\n",
      "The country has extensive trade relations with the European Union and with several countries globally. As of 2023, Pakistan does not recognize two other United Nations member states (Armenia and Israel) and its ties with India remain frozen since 2019.\n",
      "From a geopolitical perspective, Pakistan's location is strategically important as it is situated at the crossroads of major maritime and land transit routes between the Middle East and South Asia, while also serving as a bridge between the Arabian Sea and the energy-rich regions of Central Asia. Since the partition of India, the Kashmir conflict has defined the India–Pakistan relationship: the two countries claim each other's zones of control in Kashmir, but are separated by a ceasefire boundary known as the Line of Control. Pakistan has close bilateral ties with China and the Muslim world, including Turkey, Saudi Arabia, and the Gulf Arab countries. As a part of the First World during the Cold War, Pakistan closely cooperated with the United States to combat the global influence of the Soviet Union, though this relationship later became strained over the course of the War on Terror. Pakistan is an active member of the Commonwealth of Nations, Organization of Islamic Cooperation, and the Shanghai Cooperation Organization.king\n",
      "\n",
      "\n",
      "== Foreign policy of Pakistan ==\n",
      "Pakistan's foreign policy seeks to 'promote the internationally recognized norms of interstate relations, i.e. respect for sovereignty and territorial integrity of all States, non-interference in the internal affairs of other State; non-aggression and peaceful settlement of disputes. Pakistan has therefore always sought to develop friendly and cordial relations with all countries of the world'.\n",
      "Pakistan's foreign policy is meant to formalize and define its interactions with foreign nations and standardize interactions with organizations, corporations and individual citizens. Backed by the semi-agricultural and semi-industrialized economy, Pakistan is the 47th largest (nominal GDP, 2021) and 23rd largest (purchasing) economic power and 6th largest military in the world, with a defence budget of US$11.4 billion (2018) 4.0% of its GDP (2018). The Foreign Minister of Pakistan is the official charged with state-to-state diplomacy, although the Prime minister maintains an ultimate authority over foreign policy. The state foreign policy includes defining the national interest, as well as the economic interest and strategies chosen both to safeguard that and to achieve its policy goals. Following the general election held in May 2013, Tariq Fatimi and NSA Sartaj Aziz were designated as advisers to the Prime Minister on foreign and strategic policies. After the dismissal of Nawaz Sharif's government in July 2017, Khawaja Muhammad Asif held the portfolio of foreign minister under the premiership of Shahid Khaqan Abbasi. After the victory of Imran Khan Niazi in the Pakistan General Elections 2018, Shah Mehmood Qureshi was named the Minister of Foreign Affairs. Subsequently, Bilawal Bhutto Zardari became foreign minister after the political crisis-a position previously held by his grandfather, Zulfikar Ali Bhutto, and Hina Rabbani Khar.\n",
      "\n",
      "\n",
      "=== M A Jinnah's Vision ===\n",
      "In 1947, Muhammad Ali Jinnah, founder of the state of Pakistan, clearly described the principles and objectives of Pakistan's foreign policy in a broadcast message, which is featured prominently in a quotation on the homepage of Pakistan's Ministry of Foreign Affairs website: \"The foundation of our foreign policy is friendship with all n...\n",
      "\n",
      "--- Result 2 ---\n",
      "Content:\n",
      "China and India have historically maintained peaceful relations for thousands of years of recorded history, but the harmony of their relationship has varied in modern times, after the Chinese Communist Party's victory in the Chinese Civil War in 1949, and especially post the Annexation of Tibet by the People's Republic of China. The two nations have sought economic cooperation with each other, while frequent border disputes and economic nationalism in both countries are major points of contention.\n",
      "Cultural and economic relations between China and India date back to ancient times. The Silk Road not only served as a major trade route between India and China, but is also credited for facilitating the spread of Buddhism from India to East Asia. During the 19th century, China was involved in a growing opium trade with the East India Company, which exported opium grown in India. During World War II, both British India and the Republic of China (ROC) played a crucial role in halting the progress of Imperial Japan. After India became independent in 1947, it established relations with the ROC. The modern Sino-Indian diplomatic relationship began in 1950, when India was among the first noncommunist countries to end formal relations with the Republic of China and recognise the PRC as the legitimate government of both Mainland China and Taiwan. China and India are two of the major regional powers in Asia, and are the two most populous countries and among the fastest growing major economies in the world.\n",
      "Growth in diplomatic and economic influence has increased the significance of their bilateral relationship. Between 2008 and 2021, China has been India's largest trading partner, and the two countries have also extended their strategic and military relations. However, conflict of interest leads to hostility. India has a large trade deficit that is favoured towards China. The two countries failed to resolve their border dispute and Indian media outlets have repeatedly reported Chinese military incursions into Indian territory. And relations between contemporary China and India have been characterised by border disputes, resulting in three military conflicts – the Sino-Indian War of 1962, the border clashes in Nathu La and Cho La in 1967, and the 1987 Sumdorong Chu standoff. Since the late 1980s, both countries have successfully rebuilt diplomatic and economic ties. \n",
      "Since 2013, border disputes have reemerged to take centre stage in the two countries' mutual relations. In early 2018, the two armies got engaged in a standoff at the Doklam plateau along the disputed Bhutan-China border. Since summer 2020, armed standoffs and skirmishes at multiple locations along the entire Sino-Indian border escalated. A serious clash occurred in the Galwan Valley, resulting in the death of 20 Indian soldiers and many Chinese soldiers. Both countries have steadily established military infrastructure along border areas, including amidst the 2020 China–India skirmishes. Additionally, India remains wary about China's strong strategic bilateral relations with Pakistan, and China's relations to separatist groups in Northeast India, while China has expressed concerns about Indian military and economic activities in the disputed South China Sea as well as hosting of anti-China activity from Tibetan exiles. Today, the South Asian region is the premier site of intensified great power competition between China and India.\n",
      "\n",
      "\n",
      "== Geopolitical overview ==\n",
      "\n",
      "The China–India border straddles the Himalayas, with Nepal and Bhutan acting as buffer states. Parts of the disputed Kashmir region claimed by India (J&K and Ladakh) are claimed and administered by either Pakistan (Azad Kashmir and Gilgit Baltistan) or by the PRC (Aksai Chin). The Government of Pakistan, on its maps, shows the Aksai Chin area as mostly within China and labels the boundary \"Frontier Undefined\", while India holds that Aksai Chin is illegally occupied by the PRC. China and India also dispute most of Arunacha...\n"
     ]
    }
   ],
   "source": [
    "# Print retrieved content\n",
    "for i, doc in enumerate(docs):\n",
    "    print(f\"\\n--- Result {i+1} ---\")\n",
    "    print(f\"Content:\\n{doc.page_content}...\")  # truncate for display"
   ]
  },
  {
   "cell_type": "markdown",
   "id": "cc9059f6",
   "metadata": {},
   "source": [
    "## Vector Store Retriever"
   ]
  },
  {
   "cell_type": "code",
   "execution_count": 9,
   "id": "747b405f",
   "metadata": {},
   "outputs": [],
   "source": [
    "from langchain_community.vectorstores import Chroma\n",
    "from langchain_core.documents import Document"
   ]
  },
  {
   "cell_type": "code",
   "execution_count": 10,
   "id": "8f2d6591",
   "metadata": {},
   "outputs": [],
   "source": [
    "# Step 1: Your source documents\n",
    "documents = [\n",
    "    Document(page_content=\"LangChain helps developers build LLM applications easily.\"),\n",
    "    Document(page_content=\"Chroma is a vector database optimized for LLM-based search.\"),\n",
    "    Document(page_content=\"Embeddings convert text into high-dimensional vectors.\"),\n",
    "    Document(page_content=\"OpenAI provides powerful embedding models.\"),\n",
    "]"
   ]
  },
  {
   "cell_type": "code",
   "execution_count": 11,
   "id": "450a26b5",
   "metadata": {},
   "outputs": [],
   "source": [
    "# Step 2: Initialize embedding model\n",
    "from langchain.embeddings import HuggingFaceEmbeddings\n",
    "embedding_model = HuggingFaceEmbeddings(model_name=\"all-MiniLM-L6-v2\")"
   ]
  },
  {
   "cell_type": "code",
   "execution_count": 12,
   "id": "e523eb17",
   "metadata": {},
   "outputs": [],
   "source": [
    "# Step 3: Create Chroma vector store in memory\n",
    "vectorstore = Chroma.from_documents(\n",
    "    documents=documents,\n",
    "    embedding=embedding_model,\n",
    "    collection_name=\"my_collection\"\n",
    ")"
   ]
  },
  {
   "cell_type": "code",
   "execution_count": 13,
   "id": "fdf1f209",
   "metadata": {},
   "outputs": [],
   "source": [
    "# Step 4: Convert vectorstore into a retriever\n",
    "retriever = vectorstore.as_retriever(search_kwargs={\"k\": 2})"
   ]
  },
  {
   "cell_type": "code",
   "execution_count": 14,
   "id": "aaf79af0",
   "metadata": {},
   "outputs": [],
   "source": [
    "query = \"What is Chroma used for?\"\n",
    "results = retriever.invoke(query)"
   ]
  },
  {
   "cell_type": "code",
   "execution_count": 15,
   "id": "6161e9d2",
   "metadata": {},
   "outputs": [
    {
     "data": {
      "text/plain": [
       "[Document(metadata={}, page_content='Chroma is a vector database optimized for LLM-based search.'),\n",
       " Document(metadata={}, page_content='LangChain helps developers build LLM applications easily.')]"
      ]
     },
     "execution_count": 15,
     "metadata": {},
     "output_type": "execute_result"
    }
   ],
   "source": [
    "results"
   ]
  },
  {
   "cell_type": "code",
   "execution_count": 16,
   "id": "ad38a388",
   "metadata": {},
   "outputs": [
    {
     "name": "stdout",
     "output_type": "stream",
     "text": [
      "\n",
      "--- Result 1 ---\n",
      "Chroma is a vector database optimized for LLM-based search.\n",
      "\n",
      "--- Result 2 ---\n",
      "LangChain helps developers build LLM applications easily.\n"
     ]
    }
   ],
   "source": [
    "for i, doc in enumerate(results):\n",
    "    print(f\"\\n--- Result {i+1} ---\")\n",
    "    print(doc.page_content)"
   ]
  },
  {
   "cell_type": "code",
   "execution_count": 17,
   "id": "f187c04c",
   "metadata": {},
   "outputs": [],
   "source": [
    "results = vectorstore.similarity_search(query, k=2)"
   ]
  },
  {
   "cell_type": "code",
   "execution_count": 19,
   "id": "0027405c",
   "metadata": {},
   "outputs": [
    {
     "data": {
      "text/plain": [
       "[Document(metadata={}, page_content='Chroma is a vector database optimized for LLM-based search.'),\n",
       " Document(metadata={}, page_content='LangChain helps developers build LLM applications easily.')]"
      ]
     },
     "execution_count": 19,
     "metadata": {},
     "output_type": "execute_result"
    }
   ],
   "source": [
    "results"
   ]
  },
  {
   "cell_type": "markdown",
   "id": "28b05331",
   "metadata": {},
   "source": [
    "We can see when we use similarity search it still give the same answer as as_retriever"
   ]
  },
  {
   "cell_type": "markdown",
   "id": "07f80293",
   "metadata": {},
   "source": [
    "## MMR"
   ]
  },
  {
   "cell_type": "code",
   "execution_count": 20,
   "id": "a800f87e",
   "metadata": {},
   "outputs": [],
   "source": [
    "# Sample documents\n",
    "docs = [\n",
    "    Document(page_content=\"LangChain makes it easy to work with LLMs.\"),\n",
    "    Document(page_content=\"LangChain is used to build LLM based applications.\"),\n",
    "    Document(page_content=\"Chroma is used to store and search document embeddings.\"),\n",
    "    Document(page_content=\"Embeddings are vector representations of text.\"),\n",
    "    Document(page_content=\"MMR helps you get diverse results when doing similarity search.\"),\n",
    "    Document(page_content=\"LangChain supports Chroma, FAISS, Pinecone, and more.\"),\n",
    "]"
   ]
  },
  {
   "cell_type": "markdown",
   "id": "1963f940",
   "metadata": {},
   "source": [
    "Here we use FAISS to try different vecotore store it works similarly like chroma it is from facebook"
   ]
  },
  {
   "cell_type": "code",
   "execution_count": 23,
   "id": "8b74d3b3",
   "metadata": {},
   "outputs": [],
   "source": [
    "from langchain_community.vectorstores import FAISS\n",
    "\n",
    "# Initialize embeddings\n",
    "\n",
    "# Step 2: Create the FAISS vector store from documents\n",
    "vectorstore = FAISS.from_documents(\n",
    "    documents=docs,\n",
    "    embedding=embedding_model\n",
    ")"
   ]
  },
  {
   "cell_type": "code",
   "execution_count": 24,
   "id": "bb662a1b",
   "metadata": {},
   "outputs": [],
   "source": [
    "# Enable MMR in the retriever\n",
    "retriever = vectorstore.as_retriever(\n",
    "    search_type=\"mmr\",                   # <-- This enables MMR\n",
    "    search_kwargs={\"k\": 3, \"lambda_mult\": 0.5}  # k = top results, lambda_mult = relevance-diversity balance\n",
    ")"
   ]
  },
  {
   "cell_type": "code",
   "execution_count": 25,
   "id": "b00bcd6c",
   "metadata": {},
   "outputs": [],
   "source": [
    "query = \"What is langchain?\"\n",
    "results = retriever.invoke(query)"
   ]
  },
  {
   "cell_type": "code",
   "execution_count": 26,
   "id": "f581a97a",
   "metadata": {},
   "outputs": [
    {
     "name": "stdout",
     "output_type": "stream",
     "text": [
      "\n",
      "--- Result 1 ---\n",
      "LangChain supports Chroma, FAISS, Pinecone, and more.\n",
      "\n",
      "--- Result 2 ---\n",
      "LangChain is used to build LLM based applications.\n",
      "\n",
      "--- Result 3 ---\n",
      "Embeddings are vector representations of text.\n"
     ]
    }
   ],
   "source": [
    "for i, doc in enumerate(results):\n",
    "    print(f\"\\n--- Result {i+1} ---\")\n",
    "    print(doc.page_content)"
   ]
  },
  {
   "cell_type": "markdown",
   "id": "667ab01a",
   "metadata": {},
   "source": [
    "## Multiquery Retriever"
   ]
  },
  {
   "cell_type": "code",
   "execution_count": 32,
   "id": "955d2676",
   "metadata": {},
   "outputs": [],
   "source": [
    "from langchain_community.vectorstores import FAISS\n",
    "from langchain_core.documents import Document\n",
    "from langchain.retrievers.multi_query import MultiQueryRetriever\n",
    "from langchain_community.chat_models import ChatOllama"
   ]
  },
  {
   "cell_type": "code",
   "execution_count": 37,
   "id": "1664d7a4",
   "metadata": {},
   "outputs": [],
   "source": [
    "# Relevant health & wellness documents\n",
    "all_docs = [\n",
    "    Document(page_content=\"Regular walking boosts heart health and can reduce symptoms of depression.\", metadata={\"source\": \"H1\"}),\n",
    "    Document(page_content=\"Consuming leafy greens and fruits helps detox the body and improve longevity.\", metadata={\"source\": \"H2\"}),\n",
    "    Document(page_content=\"Deep sleep is crucial for cellular repair and emotional regulation.\", metadata={\"source\": \"H3\"}),\n",
    "    Document(page_content=\"Mindfulness and controlled breathing lower cortisol and improve mental clarity.\", metadata={\"source\": \"H4\"}),\n",
    "    Document(page_content=\"Drinking sufficient water throughout the day helps maintain metabolism and energy.\", metadata={\"source\": \"H5\"}),\n",
    "    Document(page_content=\"The solar energy system in modern homes helps balance electricity demand.\", metadata={\"source\": \"I1\"}),\n",
    "    Document(page_content=\"Python balances readability with power, making it a popular system design language.\", metadata={\"source\": \"I2\"}),\n",
    "    Document(page_content=\"Photosynthesis enables plants to produce energy by converting sunlight.\", metadata={\"source\": \"I3\"}),\n",
    "    Document(page_content=\"The 2022 FIFA World Cup was held in Qatar and drew global energy and excitement.\", metadata={\"source\": \"I4\"}),\n",
    "    Document(page_content=\"Black holes bend spacetime and store immense gravitational energy.\", metadata={\"source\": \"I5\"}),\n",
    "]"
   ]
  },
  {
   "cell_type": "code",
   "execution_count": 38,
   "id": "0460bfeb",
   "metadata": {},
   "outputs": [],
   "source": [
    "# Initialize OpenAI embeddings\n",
    "\n",
    "# Create FAISS vector store\n",
    "vectorstore = FAISS.from_documents(documents=all_docs, embedding=embedding_model)"
   ]
  },
  {
   "cell_type": "code",
   "execution_count": 39,
   "id": "52500f1d",
   "metadata": {},
   "outputs": [],
   "source": [
    "# Create retrievers\n",
    "similarity_retriever = vectorstore.as_retriever(search_type=\"similarity\", search_kwargs={\"k\": 5})"
   ]
  },
  {
   "cell_type": "code",
   "execution_count": 47,
   "id": "702ce9f7",
   "metadata": {},
   "outputs": [],
   "source": [
    "multiquery_retriever = MultiQueryRetriever.from_llm(\n",
    "    retriever=vectorstore.as_retriever(search_kwargs={\"k\": 5}),\n",
    "    llm=ChatOllama(model='llama3.2')\n",
    ")"
   ]
  },
  {
   "cell_type": "code",
   "execution_count": 46,
   "id": "8fdd6dcc",
   "metadata": {},
   "outputs": [],
   "source": [
    "# Query\n",
    "query = \"How to improve energy levels and maintain balance?\""
   ]
  },
  {
   "cell_type": "code",
   "execution_count": 42,
   "id": "ed44bbf5",
   "metadata": {},
   "outputs": [],
   "source": [
    "# Retrieve results\n",
    "similarity_results = similarity_retriever.invoke(query)\n",
    "multiquery_results= multiquery_retriever.invoke(query)"
   ]
  },
  {
   "cell_type": "code",
   "execution_count": 48,
   "id": "b86de09d",
   "metadata": {},
   "outputs": [
    {
     "name": "stdout",
     "output_type": "stream",
     "text": [
      "\n",
      "--- Result 1 ---\n",
      "Drinking sufficient water throughout the day helps maintain metabolism and energy.\n",
      "\n",
      "--- Result 2 ---\n",
      "The solar energy system in modern homes helps balance electricity demand.\n",
      "\n",
      "--- Result 3 ---\n",
      "Consuming leafy greens and fruits helps detox the body and improve longevity.\n",
      "\n",
      "--- Result 4 ---\n",
      "Mindfulness and controlled breathing lower cortisol and improve mental clarity.\n",
      "\n",
      "--- Result 5 ---\n",
      "Photosynthesis enables plants to produce energy by converting sunlight.\n",
      "******************************************************************************************************************************************************\n",
      "\n",
      "--- Result 1 ---\n",
      "Python balances readability with power, making it a popular system design language.\n",
      "\n",
      "--- Result 2 ---\n",
      "Black holes bend spacetime and store immense gravitational energy.\n",
      "\n",
      "--- Result 3 ---\n",
      "Mindfulness and controlled breathing lower cortisol and improve mental clarity.\n",
      "\n",
      "--- Result 4 ---\n",
      "Photosynthesis enables plants to produce energy by converting sunlight.\n",
      "\n",
      "--- Result 5 ---\n",
      "Regular walking boosts heart health and can reduce symptoms of depression.\n",
      "\n",
      "--- Result 6 ---\n",
      "Drinking sufficient water throughout the day helps maintain metabolism and energy.\n",
      "\n",
      "--- Result 7 ---\n",
      "Consuming leafy greens and fruits helps detox the body and improve longevity.\n",
      "\n",
      "--- Result 8 ---\n",
      "The solar energy system in modern homes helps balance electricity demand.\n"
     ]
    }
   ],
   "source": [
    "for i, doc in enumerate(similarity_results):\n",
    "    print(f\"\\n--- Result {i+1} ---\")\n",
    "    print(doc.page_content)\n",
    "\n",
    "print(\"*\"*150)\n",
    "\n",
    "for i, doc in enumerate(multiquery_results):\n",
    "    print(f\"\\n--- Result {i+1} ---\")\n",
    "    print(doc.page_content)"
   ]
  },
  {
   "cell_type": "markdown",
   "id": "86d89e06",
   "metadata": {},
   "source": [
    "Actually it is not giving answer as expected because of model if we use any other good model like chatgpt3.5 tubro it give proper answer for sure"
   ]
  },
  {
   "cell_type": "markdown",
   "id": "1cf92d0d",
   "metadata": {},
   "source": [
    "## Contextual Compression Retriever"
   ]
  },
  {
   "cell_type": "code",
   "execution_count": 50,
   "id": "20568ab4",
   "metadata": {},
   "outputs": [],
   "source": [
    "from langchain_community.vectorstores import FAISS\n",
    "from langchain.retrievers.contextual_compression import ContextualCompressionRetriever\n",
    "from langchain.retrievers.document_compressors import LLMChainExtractor\n",
    "from langchain_core.documents import Document"
   ]
  },
  {
   "cell_type": "code",
   "execution_count": 51,
   "id": "8842fe97",
   "metadata": {},
   "outputs": [],
   "source": [
    "# Recreate the document objects from the previous data\n",
    "docs = [\n",
    "    Document(page_content=(\n",
    "        \"\"\"The Grand Canyon is one of the most visited natural wonders in the world.\n",
    "        Photosynthesis is the process by which green plants convert sunlight into energy.\n",
    "        Millions of tourists travel to see it every year. The rocks date back millions of years.\"\"\"\n",
    "    ), metadata={\"source\": \"Doc1\"}),\n",
    "\n",
    "    Document(page_content=(\n",
    "        \"\"\"In medieval Europe, castles were built primarily for defense.\n",
    "        The chlorophyll in plant cells captures sunlight during photosynthesis.\n",
    "        Knights wore armor made of metal. Siege weapons were often used to breach castle walls.\"\"\"\n",
    "    ), metadata={\"source\": \"Doc2\"}),\n",
    "\n",
    "    Document(page_content=(\n",
    "        \"\"\"Basketball was invented by Dr. James Naismith in the late 19th century.\n",
    "        It was originally played with a soccer ball and peach baskets. NBA is now a global league.\"\"\"\n",
    "    ), metadata={\"source\": \"Doc3\"}),\n",
    "\n",
    "    Document(page_content=(\n",
    "        \"\"\"The history of cinema began in the late 1800s. Silent films were the earliest form.\n",
    "        Thomas Edison was among the pioneers. Photosynthesis does not occur in animal cells.\n",
    "        Modern filmmaking involves complex CGI and sound design.\"\"\"\n",
    "    ), metadata={\"source\": \"Doc4\"})\n",
    "]"
   ]
  },
  {
   "cell_type": "code",
   "execution_count": 52,
   "id": "cca1238d",
   "metadata": {},
   "outputs": [],
   "source": [
    "# Create a FAISS vector store from the documents\n",
    "vectorstore = FAISS.from_documents(docs, embedding_model)"
   ]
  },
  {
   "cell_type": "code",
   "execution_count": 55,
   "id": "7e33d8cb",
   "metadata": {},
   "outputs": [],
   "source": [
    "base_retriever = vectorstore.as_retriever(search_kwargs={\"k\": 5})\n",
    "llm=ChatOllama(model='llama3.2')"
   ]
  },
  {
   "cell_type": "code",
   "execution_count": 56,
   "id": "c2f31e02",
   "metadata": {},
   "outputs": [],
   "source": [
    "# Set up the compressor using an LLM\n",
    "compressor = LLMChainExtractor.from_llm(llm)"
   ]
  },
  {
   "cell_type": "code",
   "execution_count": 57,
   "id": "a6205a58",
   "metadata": {},
   "outputs": [],
   "source": [
    "# Create the contextual compression retriever\n",
    "compression_retriever = ContextualCompressionRetriever(\n",
    "    base_retriever=base_retriever,\n",
    "    base_compressor=compressor\n",
    ")"
   ]
  },
  {
   "cell_type": "code",
   "execution_count": 58,
   "id": "31b7c6a7",
   "metadata": {},
   "outputs": [],
   "source": [
    "# Query the retriever\n",
    "query = \"What is photosynthesis?\"\n",
    "compressed_results = compression_retriever.invoke(query)"
   ]
  },
  {
   "cell_type": "code",
   "execution_count": 59,
   "id": "d7a0d3f7",
   "metadata": {},
   "outputs": [
    {
     "name": "stdout",
     "output_type": "stream",
     "text": [
      "\n",
      "--- Result 1 ---\n",
      "Photosynthesis is the process by which green plants convert sunlight into energy.\n",
      "\n",
      "--- Result 2 ---\n",
      "The extracted relevant part is:\n",
      "\n",
      "\"The chlorophyll in plant cells captures sunlight during photosynthesis.\"\n"
     ]
    }
   ],
   "source": [
    "for i, doc in enumerate(compressed_results):\n",
    "    print(f\"\\n--- Result {i+1} ---\")\n",
    "    print(doc.page_content)\n"
   ]
  },
  {
   "cell_type": "code",
   "execution_count": null,
   "id": "d1f2bdef",
   "metadata": {},
   "outputs": [],
   "source": []
  }
 ],
 "metadata": {
  "kernelspec": {
   "display_name": ".venv",
   "language": "python",
   "name": "python3"
  },
  "language_info": {
   "codemirror_mode": {
    "name": "ipython",
    "version": 3
   },
   "file_extension": ".py",
   "mimetype": "text/x-python",
   "name": "python",
   "nbconvert_exporter": "python",
   "pygments_lexer": "ipython3",
   "version": "3.12.4"
  }
 },
 "nbformat": 4,
 "nbformat_minor": 5
}
