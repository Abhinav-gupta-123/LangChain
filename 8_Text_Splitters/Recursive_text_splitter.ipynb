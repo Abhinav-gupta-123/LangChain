{
 "cells": [
  {
   "cell_type": "code",
   "execution_count": 8,
   "id": "7c7c3577",
   "metadata": {},
   "outputs": [],
   "source": [
    "from langchain.text_splitter import RecursiveCharacterTextSplitter"
   ]
  },
  {
   "cell_type": "code",
   "execution_count": 9,
   "id": "4a8d9062",
   "metadata": {},
   "outputs": [],
   "source": [
    "text = \"\"\"\n",
    "Space exploration has led to incredible scientific discoveries. From landing on the Moon to exploring Mars, humanity continues to push the boundaries of what’s possible beyond our planet.\n",
    "\n",
    "These missions have not only expanded our knowledge of the universe but have also contributed to advancements in technology here on Earth. Satellite communications, GPS, and even certain medical imaging techniques trace their roots back to innovations driven by space programs.\n",
    "\"\"\""
   ]
  },
  {
   "cell_type": "code",
   "execution_count": 10,
   "id": "55118165",
   "metadata": {},
   "outputs": [],
   "source": [
    "splitter =RecursiveCharacterTextSplitter(\n",
    "    chunk_size=100,\n",
    "    chunk_overlap=0,\n",
    ")"
   ]
  },
  {
   "cell_type": "code",
   "execution_count": 11,
   "id": "c6cfab42",
   "metadata": {},
   "outputs": [
    {
     "data": {
      "text/plain": [
       "468"
      ]
     },
     "execution_count": 11,
     "metadata": {},
     "output_type": "execute_result"
    }
   ],
   "source": [
    "len(text)"
   ]
  },
  {
   "cell_type": "code",
   "execution_count": 12,
   "id": "ccd476c8",
   "metadata": {},
   "outputs": [],
   "source": [
    "chunks=splitter.split_text(text=text)"
   ]
  },
  {
   "cell_type": "code",
   "execution_count": 13,
   "id": "0b4ed3bd",
   "metadata": {},
   "outputs": [
    {
     "name": "stdout",
     "output_type": "stream",
     "text": [
      "5\n",
      "['Space exploration has led to incredible scientific discoveries. From landing on the Moon to', 'exploring Mars, humanity continues to push the boundaries of what’s possible beyond our planet.', 'These missions have not only expanded our knowledge of the universe but have also contributed to', 'advancements in technology here on Earth. Satellite communications, GPS, and even certain medical', 'imaging techniques trace their roots back to innovations driven by space programs.']\n"
     ]
    }
   ],
   "source": [
    "print(len(chunks))\n",
    "print(chunks)"
   ]
  },
  {
   "cell_type": "markdown",
   "id": "702c0abe",
   "metadata": {},
   "source": [
    "This is most commonly used text splitter"
   ]
  },
  {
   "cell_type": "code",
   "execution_count": null,
   "id": "48b6ac37",
   "metadata": {},
   "outputs": [],
   "source": []
  }
 ],
 "metadata": {
  "kernelspec": {
   "display_name": ".venv",
   "language": "python",
   "name": "python3"
  },
  "language_info": {
   "codemirror_mode": {
    "name": "ipython",
    "version": 3
   },
   "file_extension": ".py",
   "mimetype": "text/x-python",
   "name": "python",
   "nbconvert_exporter": "python",
   "pygments_lexer": "ipython3",
   "version": "3.12.4"
  }
 },
 "nbformat": 4,
 "nbformat_minor": 5
}
