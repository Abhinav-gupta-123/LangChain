{
 "cells": [
  {
   "cell_type": "code",
   "execution_count": null,
   "id": "73c366e1",
   "metadata": {},
   "outputs": [
    {
     "name": "stdout",
     "output_type": "stream",
     "text": [
      ")\n",
      "● Single-layerperceptronlimitations● XORproblemandtheneedforhiddenlayers● MLParchitecture\n",
      "4. LayersandTheirFunctions\n",
      "● InputLayer○ Acceptinginputdata● HiddenLayers○ Featureextraction● OutputLayer○ P\n"
     ]
    }
   ],
   "source": [
    "from langchain.text_splitter import CharacterTextSplitter\n",
    "from langchain_community.document_loaders import PyPDFLoader\n",
    "\n",
    "loader = PyPDFLoader(r'C:\\Users\\abhin\\Desktop\\langchain\\8_Text_Splitters\\dl-curriculum (1).pdf')\n",
    "\n",
    "docs = loader.load()\n",
    "\n",
    "splitter = CharacterTextSplitter(\n",
    "    chunk_size=200,\n",
    "    chunk_overlap=0,\n",
    "    separator=''\n",
    ")\n",
    "\n",
    "result = splitter.split_documents(docs)\n",
    "\n",
    "print(result[2].page_content)"
   ]
  },
  {
   "cell_type": "markdown",
   "id": "4abbca08",
   "metadata": {},
   "source": [
    "chunk overlap, so baiscally chunk overlap is the concept to solve the very common problem with length based splitter is that some time it cuts the spelling is 2 different chunks or lost the info so here know using this chunk overlap concept we can try to solve this problem,\n",
    "\n",
    "how it is work : basically let suppose we say the value of chunk overlap is 5 so know it will use the last 5 charater in both chunk in 1 and 2 \n",
    "\n",
    "10-20% of chunks size is common"
   ]
  },
  {
   "cell_type": "code",
   "execution_count": null,
   "id": "5129d4d6",
   "metadata": {},
   "outputs": [],
   "source": []
  }
 ],
 "metadata": {
  "kernelspec": {
   "display_name": ".venv",
   "language": "python",
   "name": "python3"
  },
  "language_info": {
   "codemirror_mode": {
    "name": "ipython",
    "version": 3
   },
   "file_extension": ".py",
   "mimetype": "text/x-python",
   "name": "python",
   "nbconvert_exporter": "python",
   "pygments_lexer": "ipython3",
   "version": "3.12.4"
  }
 },
 "nbformat": 4,
 "nbformat_minor": 5
}
